{
 "cells": [
  {
   "cell_type": "markdown",
   "id": "55ba98c7",
   "metadata": {},
   "source": [
    "## Empirical bootstrap based Confidence Interval"
   ]
  },
  {
   "cell_type": "code",
   "execution_count": 1,
   "id": "1b8258d8",
   "metadata": {},
   "outputs": [],
   "source": [
    "import numpy as np\n",
    "from pandas import read_csv\n",
    "from sklearn.utils import resample\n",
    "from sklearn.metrics import accuracy_score\n",
    "from matplotlib import pyplot"
   ]
  },
  {
   "cell_type": "code",
   "execution_count": null,
   "id": "e493d88c",
   "metadata": {},
   "outputs": [
    {
     "data": {
      "image/png": "[encoded data removed]",
      "text/plain": [
       "<Figure size 640x480 with 1 Axes>"
      ]
     },
     "metadata": {},
     "output_type": "display_data"
    },
    {
     "name": "stdout",
     "output_type": "stream",
     "text": [
      "95.0 confidence interval 161.5 and 176.0\n"
     ]
    }
   ],
   "source": [
    "# load dataset\n",
    "x=np.array([180,162,158,172,168,150,171,183,165,176])\n",
    "\n",
    "# configure bootstrap\n",
    "n_iterations=1000\n",
    "n=len(x)\n",
    "\n",
    "# run bootstrap\n",
    "medians=[]\n",
    "for i in range(n_iterations):\n",
    "    # prepare train and test sets\n",
    "    s=resample(x,n_samples=n);\n",
    "    m=np.median(s)\n",
    "\n",
    "    medians.append(m)\n",
    "\n",
    "# plot scores\n",
    "pyplot.hist(medians)\n",
    "pyplot.show()\n",
    "\n",
    "# confidence interval\n",
    "\n",
    "alpha=0.95\n",
    "p=((1.0-alpha)/2.0)*100\n",
    "lower=np.percentile(medians,p)\n",
    "\n",
    "p=(alpha+((1.0-alpha)/2.0))*100\n",
    "upper=np.percentile(medians,p)\n",
    "print('{} confidence interval {} and {}'.format(alpha*100,lower,upper))\n",
    "\n"
   ]
  },
  {
   "cell_type": "markdown",
   "id": "fa33a6c6",
   "metadata": {},
   "source": [
    "Bootstrap sampling: You are generating 1000 resamples of your data and computing the median for each sample.\n",
    "\n",
    "Histogram: You plot the distribution of medians.\n",
    "\n",
    "Confidence Interval: You calculate the lower and upper percentiles to create a 95% confidence interval for the median."
   ]
  },
  {
   "cell_type": "markdown",
   "id": "07426226",
   "metadata": {},
   "source": [
    "A confidence interval (CI) is a range of values that is used to estimate a population parameter (such as the mean, median, or other statistics) with a certain level of confidence. It provides an interval within which you expect the true population parameter to lie, based on the sample data you have collected.\n",
    "\n",
    "Why does a confidence interval help you?\n",
    "Understanding Variability:\n",
    "\n",
    "When you only have a single sample, you don't know if your sample statistic (like the sample mean or median) is close to the true population parameter.\n",
    "\n",
    "A confidence interval tells you the range of plausible values for the population parameter. For instance, if you compute a 95% CI, you are saying, \"I am 95% confident that the true population parameter lies within this range.\""
   ]
  }
 ],
 "metadata": {
  "kernelspec": {
   "display_name": "Python 3 (ipykernel)",
   "language": "python",
   "name": "python3"
  },
  "language_info": {
   "codemirror_mode": {
    "name": "ipython",
    "version": 3
   },
   "file_extension": ".py",
   "mimetype": "text/x-python",
   "name": "python",
   "nbconvert_exporter": "python",
   "pygments_lexer": "ipython3",
   "version": "3.13.5"
  }
 },
 "nbformat": 4,
 "nbformat_minor": 5
}
