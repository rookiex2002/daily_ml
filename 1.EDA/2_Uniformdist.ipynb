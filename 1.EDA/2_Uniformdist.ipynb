{
 "cells": [
  {
   "cell_type": "markdown",
   "id": "3550c1b3",
   "metadata": {
    "vscode": {
     "languageId": "plaintext"
    }
   },
   "source": [
    "## Random Number Gernerator (Uniform Distribution)"
   ]
  },
  {
   "cell_type": "code",
   "execution_count": 1,
   "id": "7b4b3976",
   "metadata": {},
   "outputs": [
    {
     "name": "stdout",
     "output_type": "stream",
     "text": [
      "0.023749980333836573\n"
     ]
    }
   ],
   "source": [
    "import random\n",
    "print(random.random())"
   ]
  },
  {
   "cell_type": "code",
   "execution_count": 3,
   "id": "689de3c8",
   "metadata": {},
   "outputs": [
    {
     "name": "stdout",
     "output_type": "stream",
     "text": [
      "[5.1 3.5 1.4 0.2]\n"
     ]
    }
   ],
   "source": [
    "# load iris dataset\n",
    "from sklearn import datasets\n",
    "iris=datasets.load_iris()\n",
    "d=iris.data\n",
    "d.shape\n",
    "print(d[0])"
   ]
  },
  {
   "cell_type": "code",
   "execution_count": 4,
   "id": "6dde765b",
   "metadata": {},
   "outputs": [
    {
     "name": "stdout",
     "output_type": "stream",
     "text": [
      "[array([4.6, 3.1, 1.5, 0.2]), array([4.8, 3.4, 1.6, 0.2]), array([5.8, 4. , 1.2, 0.2]), array([5.1, 3.5, 1.4, 0.3]), array([5.1, 3.8, 1.5, 0.3]), array([4.6, 3.6, 1. , 0.2]), array([5.4, 3.4, 1.5, 0.4]), array([4.9, 3.1, 1.5, 0.2]), array([4.4, 3. , 1.3, 0.2]), array([5.3, 3.7, 1.5, 0.2]), array([5.5, 2.3, 4. , 1.3]), array([6.6, 2.9, 4.6, 1.3]), array([5. , 2. , 3.5, 1. ]), array([6. , 2.2, 4. , 1. ]), array([5.6, 3. , 4.5, 1.5]), array([5.9, 3.2, 4.8, 1.8]), array([5.5, 2.4, 3.7, 1. ]), array([6.7, 3.1, 4.7, 1.5]), array([5.7, 3. , 4.2, 1.2]), array([6.2, 2.9, 4.3, 1.3]), array([5.1, 2.5, 3. , 1.1]), array([7.1, 3. , 5.9, 2.1]), array([5.7, 2.5, 5. , 2. ]), array([6.4, 3.2, 5.3, 2.3]), array([7.2, 3.2, 6. , 1.8]), array([7.2, 3. , 5.8, 1.6]), array([7.4, 2.8, 6.1, 1.9]), array([6. , 3. , 4.8, 1.8]), array([6.9, 3.1, 5.4, 2.1]), array([6.9, 3.1, 5.1, 2.3]), array([6.3, 2.5, 5. , 1.9])]\n"
     ]
    }
   ],
   "source": [
    "# sample 30 points randomly from the 150 points dataset\n",
    "n=150\n",
    "m=30\n",
    "p=m/n\n",
    "\n",
    "sampled_data=[]\n",
    "for i in range(n):\n",
    "    if random.random()<=p:\n",
    "        sampled_data.append(d[i,:])\n",
    "print(sampled_data)"
   ]
  },
  {
   "cell_type": "markdown",
   "id": "64aac075",
   "metadata": {},
   "source": [
    "Due to randomness their are chances that we don't get 30 points as prob. of an event happening is exactly same for all\n",
    "\n",
    "\n",
    "You're using a Bernoulli trial on each data point:\n",
    "Each point has a 20% chance (p = 30 / 150) of being included.\n",
    "\n",
    "Why It Doesn’t Guarantee 30 Samples:\n",
    "Because you're using random.random() <= p, you’re flipping a biased coin (20% success chance) 150 times — one for each point.\n",
    "\n",
    "This is a probabilistic process, and the number of successes (selected points) follows a Binomial distribution:\n",
    "\n",
    "X∼Binomial(n=150,p=0.2)\n",
    "The expected number of samples is 30, but the actual number will vary each time due to randomness. You might get 27, 31, 28, etc."
   ]
  }
 ],
 "metadata": {
  "kernelspec": {
   "display_name": "Python 3 (ipykernel)",
   "language": "python",
   "name": "python3"
  },
  "language_info": {
   "codemirror_mode": {
    "name": "ipython",
    "version": 3
   },
   "file_extension": ".py",
   "mimetype": "text/x-python",
   "name": "python",
   "nbconvert_exporter": "python",
   "pygments_lexer": "ipython3",
   "version": "3.13.5"
  }
 },
 "nbformat": 4,
 "nbformat_minor": 5
}
