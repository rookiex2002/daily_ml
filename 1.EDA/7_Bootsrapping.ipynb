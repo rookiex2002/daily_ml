{
 "cells": [
  {
   "cell_type": "code",
   "execution_count": 27,
   "id": "d231e3c3-347d-497e-8b9b-7a1d3745e7c2",
   "metadata": {},
   "outputs": [],
   "source": [
    "## Parametric Stats --> distributions/models (it follows underlying dist. thus req less data points)\n",
    "## Non-parametric stats : 1. Says data is randomly generated 2. Is observation is independent of all other samples\n",
    "## In Non-parametric stats there should be no bias in picking the items.(req larger amt of data than parametric )"
   ]
  },
  {
   "cell_type": "markdown",
   "id": "130ac72d-7540-486d-9642-3c63e2b7be08",
   "metadata": {},
   "source": [
    "# Bootstrapping :\n",
    "\n",
    "* Used for Non-parametic Stats\n",
    "* Non-parametric Stats + Computational-Simulations\n",
    "* CLT : Sample means are gaussian distributed with mean=population-mean\n",
    "* <bold color='r'>Ques :</bold> How to estimate the population median(or other statistics) given a single sample (S)?\n",
    "* Ans : Bootstrapping\n",
    "* Assumption : Each observed value in the sample (S) is randomly collected and are independent."
   ]
  },
  {
   "cell_type": "code",
   "execution_count": 28,
   "id": "0cf97ccc-62d1-4393-833c-f07dc48006a9",
   "metadata": {},
   "outputs": [],
   "source": [
    "# Bootstrapping diagram :"
   ]
  },
  {
   "cell_type": "code",
   "execution_count": 7,
   "id": "d282260c-faab-45f2-afb8-c14281778fc6",
   "metadata": {},
   "outputs": [
    {
     "name": "stdout",
     "output_type": "stream",
     "text": [
      "1000\n"
     ]
    }
   ],
   "source": [
    "# Synthetically create a sample with random and independent observations\n",
    "\n",
    "# Let us use a sample of synthetic data (from some disb)\n",
    "# we generate so that we know the population median to compare agains\n",
    "# Let sample from Beta disb with alpha=2, beta=2 which has a population median of 0.5\n",
    "# Refer : https://en.wikipedia.org/wiki/Beta_distribution \n",
    "# Median ~ (alpha-1/3)/(alpha+beta-2/3)\n",
    "\n",
    "import numpy as np\n",
    "import seaborn as sns\n",
    "\n",
    "n=100;\n",
    "S=np.random.beta(2,2,n) # data can have any distribution.\n",
    "\n",
    "# Q. Given S, how to estimate the population median?\n",
    "\n",
    "\n",
    "# function to generate a bootstrap(sampling with replacement) sample of size n given a sample S.\n",
    "def bootstrapSample(S,m):\n",
    "    ret=np.zeros(m)\n",
    "    n=S.size;\n",
    "\n",
    "    indx=np.random.randint(n ,size=m) # generate random integer indices from discrete unif rand\n",
    "    r=S[indx]\n",
    "    return r\n",
    "\n",
    "# when m is slightly greater than n (it gives better results)\n",
    "\n",
    "m=50; # size of each bootstrap sample\n",
    "k=1000; # number of bootstrap sample\n",
    "\n",
    "\n",
    "medians=np.zeros(k)\n",
    "\n",
    "\n",
    "for i in range(k):\n",
    "    medians[i]=np.median(bootstrapSample(S,m))\n",
    "\n",
    "print(medians.size)\n",
    "\n",
    "\n"
   ]
  },
  {
   "cell_type": "code",
   "execution_count": 8,
   "id": "cdd077ec-3b44-4af5-b4bc-74374ad4e423",
   "metadata": {},
   "outputs": [
    {
     "name": "stdout",
     "output_type": "stream",
     "text": [
      "0.49014410389576396\n"
     ]
    }
   ],
   "source": [
    "# Now estimate median\n",
    "print(np.mean(medians))  # point estimate"
   ]
  },
  {
   "cell_type": "code",
   "execution_count": 39,
   "id": "0237655b-e0ff-4d41-9739-64f209655321",
   "metadata": {},
   "outputs": [
    {
     "name": "stdout",
     "output_type": "stream",
     "text": [
      "0.4927710058642454\n"
     ]
    }
   ],
   "source": [
    "print(np.median(medians)) # point estimate"
   ]
  },
  {
   "cell_type": "code",
   "execution_count": 10,
   "id": "2149dbc6-632c-42d3-9120-6c99e7320ba3",
   "metadata": {},
   "outputs": [
    {
     "name": "stderr",
     "output_type": "stream",
     "text": [
      "/tmp/ipykernel_604047/904452749.py:2: UserWarning: \n",
      "\n",
      "`distplot` is a deprecated function and will be removed in seaborn v0.14.0.\n",
      "\n",
      "Please adapt your code to use either `displot` (a figure-level function with\n",
      "similar flexibility) or `histplot` (an axes-level function for histograms).\n",
      "\n",
      "For a guide to updating your code to use the new functions, please see\n",
      "https://gist.github.com/mwaskom/de44147ed2974457ad6372750bbe5751\n",
      "\n",
      "  ax=sns.distplot(medians)\n"
     ]
    },
    {
     "data": {
      "image/png": "[encoded data removed]",
      "text/plain": [
       "<Figure size 640x480 with 1 Axes>"
      ]
     },
     "metadata": {},
     "output_type": "display_data"
    }
   ],
   "source": [
    "sns.set()\n",
    "ax=sns.distplot(medians)"
   ]
  },
  {
   "cell_type": "code",
   "execution_count": 40,
   "id": "7c60c970-4a95-4d2a-b222-7a882e18d869",
   "metadata": {},
   "outputs": [],
   "source": [
    "# Point estimate : mean, median\n",
    "# Interval estimate : percentile , disb."
   ]
  },
  {
   "cell_type": "code",
   "execution_count": 45,
   "id": "4224e152-7a93-45dc-a978-5ed8738d9f9f",
   "metadata": {},
   "outputs": [
    {
     "name": "stdout",
     "output_type": "stream",
     "text": [
      "0.39713685963765577 0.4927710058642454 0.5710811071898713\n"
     ]
    }
   ],
   "source": [
    "# 95% C.I on the median estimate with n=100 , m=50 ,k=1000\n",
    "lb_M=np.percentile(medians,2.5)\n",
    "ub_M=np.percentile(medians,97.5)\n",
    "mid_M=np.percentile(medians,50)\n",
    "\n",
    "print(lb_M,mid_M,ub_M) # acc. to 95% C.I the value lies b/w 0.39 to 0.57\n",
    "# this interval it too wide (making it precise)"
   ]
  },
  {
   "cell_type": "code",
   "execution_count": 48,
   "id": "3ecf3f54-fe44-4089-84f3-c095663045fd",
   "metadata": {},
   "outputs": [
    {
     "name": "stdout",
     "output_type": "stream",
     "text": [
      "1000\n",
      "0.42731957464077014 0.49342953153367664 0.5548881132175362\n"
     ]
    }
   ],
   "source": [
    "# same experiment as above with same S,n=100, m=100,k=1000\n",
    "\n",
    "n=100\n",
    "m=100 # size of each bootstrap sample\n",
    "k=1000 # number of bootstrap samples\n",
    "\n",
    "medians=np.zeros(k)\n",
    "\n",
    "for i in range(k):\n",
    "    medians[i]=np.median(bootstrapSample(S,m))\n",
    "\n",
    "print(medians.size)\n",
    "\n",
    "lb_M=np.percentile(medians,2.5)\n",
    "ub_M=np.percentile(medians,97.5)\n",
    "mid_M=np.percentile(medians,50)\n",
    "\n",
    "print(lb_M,mid_M,ub_M)"
   ]
  },
  {
   "cell_type": "code",
   "execution_count": 49,
   "id": "9392dc91-948e-4039-8661-11a64b96eb23",
   "metadata": {},
   "outputs": [],
   "source": [
    "#### Practice"
   ]
  },
  {
   "cell_type": "code",
   "execution_count": 50,
   "id": "bd09391a-27d9-4de9-bf4b-4deda4816cba",
   "metadata": {},
   "outputs": [],
   "source": [
    "# calculate 10th percentile for 100 samples:"
   ]
  },
  {
   "cell_type": "code",
   "execution_count": null,
   "id": "fed54f9d-3469-41c9-bd6c-ab1c3ee627a0",
   "metadata": {},
   "outputs": [],
   "source": []
  }
 ],
 "metadata": {
  "kernelspec": {
   "display_name": "Python 3 (ipykernel)",
   "language": "python",
   "name": "python3"
  },
  "language_info": {
   "codemirror_mode": {
    "name": "ipython",
    "version": 3
   },
   "file_extension": ".py",
   "mimetype": "text/x-python",
   "name": "python",
   "nbconvert_exporter": "python",
   "pygments_lexer": "ipython3",
   "version": "3.13.5"
  }
 },
 "nbformat": 4,
 "nbformat_minor": 5
}
