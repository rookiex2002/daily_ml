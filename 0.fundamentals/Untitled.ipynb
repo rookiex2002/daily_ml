{
 "cells": [
  {
   "cell_type": "code",
   "execution_count": 1,
   "id": "f88ee9d7-a65e-4c5c-b4df-a6fea81abab5",
   "metadata": {},
   "outputs": [],
   "source": [
    "import numpy as np"
   ]
  },
  {
   "cell_type": "markdown",
   "id": "af65e330-c158-46d7-b00d-acb635c16d82",
   "metadata": {},
   "source": [
    "List vs Array :\n",
    "\n",
    "* list : list are data container objects that are ordered , mutable and heterogeneous. This makes them extremely flexible and they provide high utility when one wants to just group a collection of objects together without needing to wory about the data types.\n",
    "List  actually don't contain any object,but instead they contain mapping /pointers to object that are stored at various location within the memory.\n",
    "They are no contigiously stored hence takes time to access each time.\n",
    "\n",
    "* Array : Here the data is stored contigiously (as a block of data) and resulting in one dimensional basic array.It may be less flexible but more accessible make computation faster."
   ]
  },
  {
   "cell_type": "markdown",
   "id": "ad1863b3-11b5-45a2-8946-a10c90421ee8",
   "metadata": {},
   "source": [
    "axis 1: -----> horizontal\n",
    "\n",
    "axis 0 : vertical"
   ]
  },
  {
   "cell_type": "markdown",
   "id": "87c80a4f-b7c4-43c2-a2ad-963e5938b7c7",
   "metadata": {},
   "source": [
    "## Creating Array using predefined values :"
   ]
  },
  {
   "cell_type": "markdown",
   "id": "0ea06ca1-ad4e-4ac2-ab3a-0892a523aadf",
   "metadata": {},
   "source": [
    "* Using list :"
   ]
  },
  {
   "cell_type": "code",
   "execution_count": 2,
   "id": "8ff01579-0cb8-4b23-8efa-64f348180d4c",
   "metadata": {},
   "outputs": [
    {
     "data": {
      "text/plain": [
       "(array([1, 2, 3]), numpy.ndarray, numpy.int32)"
      ]
     },
     "execution_count": 2,
     "metadata": {},
     "output_type": "execute_result"
    }
   ],
   "source": [
    "l=[1,2,3]\n",
    "a=np.array(l)\n",
    "a,type(a),type(a[0])"
   ]
  },
  {
   "cell_type": "code",
   "execution_count": 3,
   "id": "8d420398-a0a1-49d7-846c-66f3f416cf77",
   "metadata": {},
   "outputs": [
    {
     "data": {
      "text/plain": [
       "array([1, 2, 3], dtype=int64)"
      ]
     },
     "execution_count": 3,
     "metadata": {},
     "output_type": "execute_result"
    }
   ],
   "source": [
    "## using specific datatype\n",
    "a1=np.array(l,dtype='int64')\n",
    "a1"
   ]
  },
  {
   "cell_type": "code",
   "execution_count": 4,
   "id": "0162e4ed-4026-4ae7-b8e4-3b5c0115d54a",
   "metadata": {},
   "outputs": [
    {
     "data": {
      "text/plain": [
       "(array([0.1, 2. , 3. ]), numpy.int32)"
      ]
     },
     "execution_count": 4,
     "metadata": {},
     "output_type": "execute_result"
    }
   ],
   "source": [
    "l=[0.1,2,3]\n",
    "a1=np.array(l)\n",
    "a1,type(a[0])"
   ]
  },
  {
   "cell_type": "markdown",
   "id": "92cd9a1e-e011-4828-b639-473f7e6567c8",
   "metadata": {},
   "source": [
    "* Using arange function : arange() <br>\n",
    "it creates an array of values of the specified range."
   ]
  },
  {
   "cell_type": "code",
   "execution_count": 5,
   "id": "2a373ef0-7076-4425-81dc-970cab42a7b1",
   "metadata": {},
   "outputs": [
    {
     "data": {
      "text/plain": [
       "array([0, 1, 2, 3, 4])"
      ]
     },
     "execution_count": 5,
     "metadata": {},
     "output_type": "execute_result"
    }
   ],
   "source": [
    "a=np.arange(5)\n",
    "a"
   ]
  },
  {
   "cell_type": "code",
   "execution_count": 6,
   "id": "1698b597-6685-4d84-8ed7-3471ed0814fd",
   "metadata": {},
   "outputs": [
    {
     "data": {
      "text/plain": [
       "array([ 5,  8, 11, 14, 17])"
      ]
     },
     "execution_count": 6,
     "metadata": {},
     "output_type": "execute_result"
    }
   ],
   "source": [
    "a1=np.arange(5,20,3)\n",
    "a1"
   ]
  },
  {
   "cell_type": "markdown",
   "id": "d5ed30d7-9d5e-47f2-b352-0e9e245404ee",
   "metadata": {},
   "source": [
    "* Using Linspace function : <b>linspace(start,end,num_of)</b> <br>\n",
    "create the required no. of equispaced values within a defined interval/range."
   ]
  },
  {
   "cell_type": "code",
   "execution_count": 7,
   "id": "8d412c85-81b3-43ac-9414-a49fca577d08",
   "metadata": {},
   "outputs": [
    {
     "data": {
      "text/plain": [
       "array([22.  , 22.25, 22.5 ])"
      ]
     },
     "execution_count": 7,
     "metadata": {},
     "output_type": "execute_result"
    }
   ],
   "source": [
    "a=np.linspace(22,22.5,3)\n",
    "a"
   ]
  },
  {
   "cell_type": "code",
   "execution_count": 8,
   "id": "7cc23e05-193f-4e55-971f-3fb9408511cc",
   "metadata": {},
   "outputs": [
    {
     "data": {
      "text/plain": [
       "array([0.  , 0.75, 1.5 , 2.25, 3.  ])"
      ]
     },
     "execution_count": 8,
     "metadata": {},
     "output_type": "execute_result"
    }
   ],
   "source": [
    "a1=np.linspace(0,3,5)\n",
    "a1"
   ]
  },
  {
   "cell_type": "markdown",
   "id": "2628f450-731b-4586-a2c5-5e0541a9e665",
   "metadata": {},
   "source": [
    "* Using only Ones : ones / ones_like /zeros /zeros_like<br>  \n",
    "used to create array containing only ones.\n"
   ]
  },
  {
   "cell_type": "code",
   "execution_count": 9,
   "id": "67b4f7f8-b7f1-46ce-b415-05e51d1ddf06",
   "metadata": {},
   "outputs": [
    {
     "data": {
      "text/plain": [
       "array([1.])"
      ]
     },
     "execution_count": 9,
     "metadata": {},
     "output_type": "execute_result"
    }
   ],
   "source": [
    "a=np.ones(1)\n",
    "a"
   ]
  },
  {
   "cell_type": "code",
   "execution_count": 10,
   "id": "5291b16d-72bb-4b2b-82be-050b2a3fac45",
   "metadata": {},
   "outputs": [
    {
     "data": {
      "text/plain": [
       "array([[1., 1., 1., 1.],\n",
       "       [1., 1., 1., 1.]])"
      ]
     },
     "execution_count": 10,
     "metadata": {},
     "output_type": "execute_result"
    }
   ],
   "source": [
    "a1=np.ones([2,4])  # (shape)\n",
    "a1"
   ]
  },
  {
   "cell_type": "code",
   "execution_count": 11,
   "id": "dfe746c4-4c57-4771-a6fb-2179fb725820",
   "metadata": {},
   "outputs": [
    {
     "data": {
      "text/plain": [
       "array([1, 1, 1, 1])"
      ]
     },
     "execution_count": 11,
     "metadata": {},
     "output_type": "execute_result"
    }
   ],
   "source": [
    "l=[1,2,4,5]\n",
    "a2=np.ones_like(l)\n",
    "a2"
   ]
  },
  {
   "cell_type": "code",
   "execution_count": 12,
   "id": "c52579e5-ac7c-4520-bd3f-57b22aaad2a7",
   "metadata": {},
   "outputs": [
    {
     "data": {
      "text/plain": [
       "array([[1., 1., 1., 1.],\n",
       "       [1., 1., 1., 1.]])"
      ]
     },
     "execution_count": 12,
     "metadata": {},
     "output_type": "execute_result"
    }
   ],
   "source": [
    "a3=np.ones_like(a1)\n",
    "a3"
   ]
  },
  {
   "cell_type": "markdown",
   "id": "3452c1ff-9968-44bc-868a-e313fcebcf70",
   "metadata": {},
   "source": [
    "### Creating Array using Random Number Generator :"
   ]
  },
  {
   "cell_type": "code",
   "execution_count": 13,
   "id": "19fd40b6-4cc6-42c9-b78d-e2be100a1bd7",
   "metadata": {},
   "outputs": [
    {
     "data": {
      "text/plain": [
       "array([0.32946717, 0.64396741, 0.4973138 ])"
      ]
     },
     "execution_count": 13,
     "metadata": {},
     "output_type": "execute_result"
    }
   ],
   "source": [
    "a=np.random.rand(3) # random float b/w zero and one \n",
    "a"
   ]
  },
  {
   "cell_type": "code",
   "execution_count": 14,
   "id": "e285c427-8a3e-4f7c-8ccb-96c8eb5a5958",
   "metadata": {},
   "outputs": [
    {
     "data": {
      "text/plain": [
       "array([9, 1, 5, 8, 5])"
      ]
     },
     "execution_count": 14,
     "metadata": {},
     "output_type": "execute_result"
    }
   ],
   "source": [
    "a=np.random.randint(1,10,5) # (max,min,no.of values) : create random integers\n",
    "a\n"
   ]
  },
  {
   "cell_type": "code",
   "execution_count": 15,
   "id": "0669094c-4cbe-4cb6-9c3f-a7743573c79d",
   "metadata": {},
   "outputs": [
    {
     "data": {
      "text/plain": [
       "array([[6, 4, 1, 7, 3],\n",
       "       [3, 5, 2, 7, 9]])"
      ]
     },
     "execution_count": 15,
     "metadata": {},
     "output_type": "execute_result"
    }
   ],
   "source": [
    "a=np.random.randint(1,10,(2,5))\n",
    "a"
   ]
  },
  {
   "cell_type": "code",
   "execution_count": 16,
   "id": "1e9dd11b-5a26-4965-91d4-e5b727a04c6e",
   "metadata": {},
   "outputs": [
    {
     "data": {
      "text/plain": [
       "array([ 0.58059229, -1.28371808,  0.68803893])"
      ]
     },
     "execution_count": 16,
     "metadata": {},
     "output_type": "execute_result"
    }
   ],
   "source": [
    "### Using randn : array containing random no. sampled from a std gaussian/normal distribution .\n",
    "a=np.random.randn(3)\n",
    "a"
   ]
  },
  {
   "cell_type": "code",
   "execution_count": 17,
   "id": "0840a45f-6b1f-4471-9e48-aef2ef6642c3",
   "metadata": {},
   "outputs": [
    {
     "data": {
      "text/plain": [
       "array([[ 0.79565239, -0.36426051,  0.31727836],\n",
       "       [ 0.46190927, -1.57831977, -1.43311199]])"
      ]
     },
     "execution_count": 17,
     "metadata": {},
     "output_type": "execute_result"
    }
   ],
   "source": [
    "a=np.random.randn(2,3) #(shape)\n",
    "a"
   ]
  },
  {
   "cell_type": "markdown",
   "id": "12733902-fc69-4116-8c76-4ff14877bf84",
   "metadata": {},
   "source": [
    "#### Indexing and slicing :"
   ]
  },
  {
   "cell_type": "code",
   "execution_count": 18,
   "id": "d83f25d2-ac27-4f7b-b3da-54c398ba9f34",
   "metadata": {},
   "outputs": [
    {
     "data": {
      "text/plain": [
       "array([[28, 10, 83, 75],\n",
       "       [75, 28, 78, 64],\n",
       "       [19, 80, 92,  7]])"
      ]
     },
     "execution_count": 18,
     "metadata": {},
     "output_type": "execute_result"
    }
   ],
   "source": [
    "a=np.random.randint(1,100,[3,4])\n",
    "a"
   ]
  },
  {
   "cell_type": "code",
   "execution_count": 19,
   "id": "95671317-099d-4307-a814-c286e335ab9c",
   "metadata": {},
   "outputs": [
    {
     "data": {
      "text/plain": [
       "(array([28, 10, 83, 75]), array([19, 80, 92,  7]))"
      ]
     },
     "execution_count": 19,
     "metadata": {},
     "output_type": "execute_result"
    }
   ],
   "source": [
    "a[0],a[-1]"
   ]
  },
  {
   "cell_type": "code",
   "execution_count": 20,
   "id": "65e75ec0-d0f7-4d12-85e6-1040ce3a3dfc",
   "metadata": {},
   "outputs": [
    {
     "data": {
      "text/plain": [
       "(28, 10)"
      ]
     },
     "execution_count": 20,
     "metadata": {},
     "output_type": "execute_result"
    }
   ],
   "source": [
    "a[0][0],a[0][1]"
   ]
  },
  {
   "cell_type": "markdown",
   "id": "3990590d-0384-4652-b42e-f0d01541a9b2",
   "metadata": {},
   "source": [
    "## array attributes :"
   ]
  },
  {
   "cell_type": "code",
   "execution_count": 21,
   "id": "a2a1da44-0b9c-4826-8f78-92fcc9ec935d",
   "metadata": {},
   "outputs": [
    {
     "data": {
      "text/plain": [
       "dtype('int32')"
      ]
     },
     "execution_count": 21,
     "metadata": {},
     "output_type": "execute_result"
    }
   ],
   "source": [
    "a.dtype  # data type of element stored"
   ]
  },
  {
   "cell_type": "code",
   "execution_count": 22,
   "id": "7813fb12-a972-4a7c-80f3-25bbe5a1c2a7",
   "metadata": {},
   "outputs": [
    {
     "data": {
      "text/plain": [
       "2"
      ]
     },
     "execution_count": 22,
     "metadata": {},
     "output_type": "execute_result"
    }
   ],
   "source": [
    "a.ndim  # no. of axis"
   ]
  },
  {
   "cell_type": "code",
   "execution_count": 23,
   "id": "7b161f27-a6f2-46dd-9feb-31032af7f567",
   "metadata": {},
   "outputs": [
    {
     "data": {
      "text/plain": [
       "(3, 4)"
      ]
     },
     "execution_count": 23,
     "metadata": {},
     "output_type": "execute_result"
    }
   ],
   "source": [
    "a.shape # shape"
   ]
  },
  {
   "cell_type": "code",
   "execution_count": null,
   "id": "4e485bb2-5d12-4420-b77e-11ef58fea7d8",
   "metadata": {},
   "outputs": [],
   "source": []
  },
  {
   "cell_type": "markdown",
   "id": "6e1b0421-9931-40ef-b634-5ee16dea48af",
   "metadata": {},
   "source": [
    "## array methods :"
   ]
  },
  {
   "cell_type": "code",
   "execution_count": 24,
   "id": "d9d9b637-0347-4ef7-8a3c-0f86341ee9d0",
   "metadata": {},
   "outputs": [
    {
     "data": {
      "text/plain": [
       "array([54, 23,  4, 56, 14, 67])"
      ]
     },
     "execution_count": 24,
     "metadata": {},
     "output_type": "execute_result"
    }
   ],
   "source": [
    "a=np.random.randint(1,100,6)\n",
    "a"
   ]
  },
  {
   "cell_type": "code",
   "execution_count": 25,
   "id": "0dbfd4df-570f-4cfd-a507-ff21f9b5ca90",
   "metadata": {},
   "outputs": [
    {
     "data": {
      "text/plain": [
       "array([[54, 23,  4],\n",
       "       [56, 14, 67]])"
      ]
     },
     "execution_count": 25,
     "metadata": {},
     "output_type": "execute_result"
    }
   ],
   "source": [
    "a.resize(2,3)\n",
    "a"
   ]
  },
  {
   "cell_type": "code",
   "execution_count": 26,
   "id": "13e15c99-e17b-4bec-8a7b-9ed2cf06b0e7",
   "metadata": {},
   "outputs": [
    {
     "data": {
      "text/plain": [
       "(2, 3)"
      ]
     },
     "execution_count": 26,
     "metadata": {},
     "output_type": "execute_result"
    }
   ],
   "source": [
    "a.shape"
   ]
  },
  {
   "cell_type": "code",
   "execution_count": 27,
   "id": "7b6dfdc0-b6b5-43bd-a0ab-7650ba71fd54",
   "metadata": {},
   "outputs": [
    {
     "data": {
      "text/plain": [
       "array([[54, 23,  4, 56, 14, 67]])"
      ]
     },
     "execution_count": 27,
     "metadata": {},
     "output_type": "execute_result"
    }
   ],
   "source": [
    "a.reshape(1,-1)"
   ]
  },
  {
   "cell_type": "code",
   "execution_count": 28,
   "id": "0e47d109-d332-4ec5-b334-618cdd5cc1b3",
   "metadata": {},
   "outputs": [
    {
     "data": {
      "text/plain": [
       "array([[54],\n",
       "       [23],\n",
       "       [ 4],\n",
       "       [56],\n",
       "       [14],\n",
       "       [67]])"
      ]
     },
     "execution_count": 28,
     "metadata": {},
     "output_type": "execute_result"
    }
   ],
   "source": [
    "a.reshape(-1,1)"
   ]
  },
  {
   "cell_type": "code",
   "execution_count": 29,
   "id": "b0404897-d8da-499a-b8bd-86682a080587",
   "metadata": {},
   "outputs": [
    {
     "data": {
      "text/plain": [
       "array([[43, 79, 16],\n",
       "       [17, 51, 52]])"
      ]
     },
     "execution_count": 29,
     "metadata": {},
     "output_type": "execute_result"
    }
   ],
   "source": [
    "a=np.random.randint(1,100,[2,3])\n",
    "a"
   ]
  },
  {
   "cell_type": "code",
   "execution_count": 30,
   "id": "938ee826-2a01-4151-a3cb-fd81f4667338",
   "metadata": {},
   "outputs": [
    {
     "data": {
      "text/plain": [
       "array([43, 79, 16, 17, 51, 52])"
      ]
     },
     "execution_count": 30,
     "metadata": {},
     "output_type": "execute_result"
    }
   ],
   "source": [
    "a1=a.flatten()\n",
    "a1"
   ]
  },
  {
   "cell_type": "code",
   "execution_count": 31,
   "id": "42142cd4-d535-4777-8d4f-afbc0db0c532",
   "metadata": {},
   "outputs": [
    {
     "data": {
      "text/plain": [
       "((2, 3), (6,))"
      ]
     },
     "execution_count": 31,
     "metadata": {},
     "output_type": "execute_result"
    }
   ],
   "source": [
    "a.shape,a1.shape"
   ]
  },
  {
   "cell_type": "code",
   "execution_count": 32,
   "id": "ee14dc6f-a3aa-4795-aa7d-4752d15c0aee",
   "metadata": {},
   "outputs": [],
   "source": [
    "#### sort and argsort\n",
    "\n",
    "# argsort : return the indices that would sort the array it was applied to"
   ]
  },
  {
   "cell_type": "code",
   "execution_count": 33,
   "id": "9a3707e8-17e5-4928-9014-8f293d24b400",
   "metadata": {},
   "outputs": [
    {
     "data": {
      "text/plain": [
       "array([80, 74, 29, 99,  2])"
      ]
     },
     "execution_count": 33,
     "metadata": {},
     "output_type": "execute_result"
    }
   ],
   "source": [
    "a=np.random.randint(1,100,5)\n",
    "a"
   ]
  },
  {
   "cell_type": "code",
   "execution_count": 34,
   "id": "eaf551d1-56f3-4eec-ab4c-e22c04d322e2",
   "metadata": {},
   "outputs": [],
   "source": [
    "a1=a.sort()\n",
    "a1"
   ]
  },
  {
   "cell_type": "code",
   "execution_count": 35,
   "id": "e390e93e-afc9-4534-b466-c79a9db8a02b",
   "metadata": {},
   "outputs": [
    {
     "data": {
      "text/plain": [
       "array([0, 1, 2, 3, 4], dtype=int64)"
      ]
     },
     "execution_count": 35,
     "metadata": {},
     "output_type": "execute_result"
    }
   ],
   "source": [
    "i=a.argsort()\n",
    "i"
   ]
  },
  {
   "cell_type": "code",
   "execution_count": 36,
   "id": "6faeff75-f35d-4bee-8539-22ae2e9fbe4f",
   "metadata": {},
   "outputs": [],
   "source": [
    "## sort element in decending order :"
   ]
  },
  {
   "cell_type": "code",
   "execution_count": 37,
   "id": "d928153d-9bc2-4dcb-88fb-59363929da27",
   "metadata": {},
   "outputs": [
    {
     "data": {
      "text/plain": [
       "array([11, 21, 31, 41, 51, 61, 71, 81, 91])"
      ]
     },
     "execution_count": 37,
     "metadata": {},
     "output_type": "execute_result"
    }
   ],
   "source": [
    "a=np.arange(11,100,10)\n",
    "a"
   ]
  },
  {
   "cell_type": "code",
   "execution_count": 38,
   "id": "89ebdaad-1b82-4121-8564-f2c0d74d7e35",
   "metadata": {},
   "outputs": [
    {
     "data": {
      "text/plain": [
       "array([91, 81, 71, 61, 51, 41, 31, 21, 11])"
      ]
     },
     "execution_count": 38,
     "metadata": {},
     "output_type": "execute_result"
    }
   ],
   "source": [
    "a.sort()\n",
    "a1=a[-1::-1]\n",
    "a1"
   ]
  },
  {
   "cell_type": "code",
   "execution_count": 39,
   "id": "e0a4baf7-58b5-4b4f-80ae-5d690b58f924",
   "metadata": {},
   "outputs": [],
   "source": [
    "## Nonzero : return indices of the element in array that are non-zero."
   ]
  },
  {
   "cell_type": "code",
   "execution_count": 40,
   "id": "40bbcf49-f40d-4819-8503-b7f74b99c1fa",
   "metadata": {},
   "outputs": [
    {
     "data": {
      "text/plain": [
       "(array([0, 2, 3, 4], dtype=int64),)"
      ]
     },
     "execution_count": 40,
     "metadata": {},
     "output_type": "execute_result"
    }
   ],
   "source": [
    "a=np.random.randint(0,4,5)\n",
    "a.nonzero()"
   ]
  },
  {
   "cell_type": "code",
   "execution_count": 41,
   "id": "7e63d9f4-12b2-4ba8-96af-1d90114dee1d",
   "metadata": {},
   "outputs": [],
   "source": [
    "## max and argmax :"
   ]
  },
  {
   "cell_type": "code",
   "execution_count": 42,
   "id": "6ba81eca-dca0-4fb6-8bce-76704e5da71e",
   "metadata": {},
   "outputs": [
    {
     "data": {
      "text/plain": [
       "array([[88, 60, 12, 24, 52],\n",
       "       [91, 60,  9,  2, 35],\n",
       "       [89, 72, 21, 81, 11]])"
      ]
     },
     "execution_count": 42,
     "metadata": {},
     "output_type": "execute_result"
    }
   ],
   "source": [
    "a=np.random.randint(1,100,[3,5])\n",
    "a"
   ]
  },
  {
   "cell_type": "code",
   "execution_count": 43,
   "id": "a22e9db2-0ccb-4436-ba73-746394db2435",
   "metadata": {},
   "outputs": [
    {
     "data": {
      "text/plain": [
       "(91, array([91, 72, 21, 81, 52]), array([88, 91, 89]))"
      ]
     },
     "execution_count": 43,
     "metadata": {},
     "output_type": "execute_result"
    }
   ],
   "source": [
    "a.max() , a.max(axis=0) , a.max(axis=1) # max() : return max value along the given axis."
   ]
  },
  {
   "cell_type": "code",
   "execution_count": 44,
   "id": "a5efa277-8f74-4702-aee4-afa8a60fadc6",
   "metadata": {},
   "outputs": [
    {
     "data": {
      "text/plain": [
       "(5, array([1, 2, 2, 2, 0], dtype=int64), array([0, 0, 0], dtype=int64))"
      ]
     },
     "execution_count": 44,
     "metadata": {},
     "output_type": "execute_result"
    }
   ],
   "source": [
    "a.argmax(), a.argmax(axis=0) , a.argmax(axis=1) # argmax() : return the indexes of max value along any given axis."
   ]
  },
  {
   "cell_type": "code",
   "execution_count": 45,
   "id": "662ff2a4-e3c8-46c3-bd81-0b7bb1786098",
   "metadata": {},
   "outputs": [],
   "source": [
    "## sum and cumsum :"
   ]
  },
  {
   "cell_type": "code",
   "execution_count": 46,
   "id": "fb5671e5-ac8b-47b0-b6e4-87ceb3f6ff18",
   "metadata": {},
   "outputs": [
    {
     "data": {
      "text/plain": [
       "array([[14, 12, 91, 97, 60],\n",
       "       [64, 63, 93, 92,  5],\n",
       "       [83, 40, 10, 18, 49]])"
      ]
     },
     "execution_count": 46,
     "metadata": {},
     "output_type": "execute_result"
    }
   ],
   "source": [
    "a=np.random.randint(1,100,[3,5])\n",
    "a"
   ]
  },
  {
   "cell_type": "code",
   "execution_count": 47,
   "id": "e6dcd145-eb6d-4190-a20d-52f28871dcda",
   "metadata": {},
   "outputs": [
    {
     "data": {
      "text/plain": [
       "(791, array([161, 115, 194, 207, 114]), array([274, 317, 200]))"
      ]
     },
     "execution_count": 47,
     "metadata": {},
     "output_type": "execute_result"
    }
   ],
   "source": [
    "a.sum() , a.sum(axis=0) , a.sum(axis=1)"
   ]
  },
  {
   "cell_type": "code",
   "execution_count": 48,
   "id": "2c8e41d4-7f64-4e34-bd48-4fe99a22106c",
   "metadata": {},
   "outputs": [],
   "source": [
    "## cumsum  : return the cumulative sum of the array  element over any given axis."
   ]
  },
  {
   "cell_type": "code",
   "execution_count": 49,
   "id": "15a4fa81-5862-4fa5-a9c2-a2cf7b2611ed",
   "metadata": {},
   "outputs": [
    {
     "data": {
      "text/plain": [
       "array([[58, 21],\n",
       "       [33, 94]])"
      ]
     },
     "execution_count": 49,
     "metadata": {},
     "output_type": "execute_result"
    }
   ],
   "source": [
    "a=np.random.randint(1,100,[2,2])\n",
    "a"
   ]
  },
  {
   "cell_type": "code",
   "execution_count": 50,
   "id": "ee039c08-a9e3-4da0-9bec-8ac3975b2f84",
   "metadata": {},
   "outputs": [
    {
     "data": {
      "text/plain": [
       "array([[ 58,  21],\n",
       "       [ 91, 115]])"
      ]
     },
     "execution_count": 50,
     "metadata": {},
     "output_type": "execute_result"
    }
   ],
   "source": [
    "a.cumsum(axis=0)"
   ]
  },
  {
   "cell_type": "code",
   "execution_count": null,
   "id": "aa8f63da-4b39-4874-bc3f-36a0e1824e07",
   "metadata": {},
   "outputs": [],
   "source": []
  },
  {
   "cell_type": "code",
   "execution_count": 51,
   "id": "e450a40a-782d-46db-82da-3327168ace80",
   "metadata": {},
   "outputs": [
    {
     "data": {
      "text/plain": [
       "array([[ 58,  79],\n",
       "       [ 33, 127]])"
      ]
     },
     "execution_count": 51,
     "metadata": {},
     "output_type": "execute_result"
    }
   ],
   "source": [
    "a.cumsum(axis=1)"
   ]
  },
  {
   "cell_type": "code",
   "execution_count": 52,
   "id": "b04d1f31-f843-4581-a7bf-25261f925bdc",
   "metadata": {},
   "outputs": [
    {
     "data": {
      "text/plain": [
       "array([ 58,  79, 112, 206])"
      ]
     },
     "execution_count": 52,
     "metadata": {},
     "output_type": "execute_result"
    }
   ],
   "source": [
    "a.cumsum()"
   ]
  },
  {
   "cell_type": "code",
   "execution_count": 53,
   "id": "d2e2407c-702e-464f-816d-455298c51db6",
   "metadata": {},
   "outputs": [],
   "source": [
    "## prod and cumprod : return the product and cumulative product of the array element over any give axis."
   ]
  },
  {
   "cell_type": "code",
   "execution_count": 54,
   "id": "108bedb3-0d4e-4acf-94b3-c9b772123f7a",
   "metadata": {},
   "outputs": [
    {
     "data": {
      "text/plain": [
       "array([[ 6, 16, 83],\n",
       "       [73, 15, 40]])"
      ]
     },
     "execution_count": 54,
     "metadata": {},
     "output_type": "execute_result"
    }
   ],
   "source": [
    "a=np.random.randint(1,100,[2,3])\n",
    "a"
   ]
  },
  {
   "cell_type": "code",
   "execution_count": 55,
   "id": "52e305aa-a204-4e7c-a3e6-24dfc835b5b3",
   "metadata": {},
   "outputs": [
    {
     "data": {
      "text/plain": [
       "(348998400, array([ 438,  240, 3320]), array([ 7968, 43800]))"
      ]
     },
     "execution_count": 55,
     "metadata": {},
     "output_type": "execute_result"
    }
   ],
   "source": [
    "a.prod() , a.prod(axis=0),a.prod(axis=1)\n"
   ]
  },
  {
   "cell_type": "code",
   "execution_count": 56,
   "id": "45a5021e-aeec-469d-b02a-5e14103035e6",
   "metadata": {},
   "outputs": [
    {
     "data": {
      "text/plain": [
       "array([        6,        96,      7968,    581664,   8724960, 348998400])"
      ]
     },
     "execution_count": 56,
     "metadata": {},
     "output_type": "execute_result"
    }
   ],
   "source": [
    "a.cumprod()"
   ]
  },
  {
   "cell_type": "code",
   "execution_count": 57,
   "id": "0e322dfe-a2d5-4da4-b618-859268517466",
   "metadata": {},
   "outputs": [
    {
     "data": {
      "text/plain": [
       "array([[   6,   16,   83],\n",
       "       [ 438,  240, 3320]])"
      ]
     },
     "execution_count": 57,
     "metadata": {},
     "output_type": "execute_result"
    }
   ],
   "source": [
    "a.cumprod(axis=0)"
   ]
  },
  {
   "cell_type": "code",
   "execution_count": 58,
   "id": "480b2a64-1a30-4975-823d-4c2a4abc568d",
   "metadata": {},
   "outputs": [
    {
     "data": {
      "text/plain": [
       "array([[    6,    96,  7968],\n",
       "       [   73,  1095, 43800]])"
      ]
     },
     "execution_count": 58,
     "metadata": {},
     "output_type": "execute_result"
    }
   ],
   "source": [
    "a.cumprod(axis=1)"
   ]
  },
  {
   "cell_type": "code",
   "execution_count": 59,
   "id": "48948c6e-f681-4d74-b4ba-2520424e7a7c",
   "metadata": {},
   "outputs": [],
   "source": [
    "### mean , var , std "
   ]
  },
  {
   "cell_type": "code",
   "execution_count": 60,
   "id": "6f74f3a2-449d-4c3d-8355-ae6c0a112ebe",
   "metadata": {},
   "outputs": [
    {
     "data": {
      "text/plain": [
       "array([[17, 36, 89],\n",
       "       [42, 39, 79]])"
      ]
     },
     "execution_count": 60,
     "metadata": {},
     "output_type": "execute_result"
    }
   ],
   "source": [
    "a=np.random.randint(1,100,[2,3])\n",
    "a"
   ]
  },
  {
   "cell_type": "code",
   "execution_count": 61,
   "id": "778fc7bd-547e-4d96-a44a-4ecd1d7ebb79",
   "metadata": {},
   "outputs": [
    {
     "data": {
      "text/plain": [
       "(50.333333333333336,\n",
       " array([29.5, 37.5, 84. ]),\n",
       " array([47.33333333, 53.33333333]))"
      ]
     },
     "execution_count": 61,
     "metadata": {},
     "output_type": "execute_result"
    }
   ],
   "source": [
    "a.mean() , a.mean(axis=0) , a.mean(axis=1)"
   ]
  },
  {
   "cell_type": "code",
   "execution_count": 62,
   "id": "d8a37e1a-a4e1-4ffc-9dea-6c7c9b0a3c76",
   "metadata": {},
   "outputs": [
    {
     "data": {
      "text/plain": [
       "(638.5555555555555,\n",
       " array([156.25,   2.25,  25.  ]),\n",
       " array([928.22222222, 330.88888889]))"
      ]
     },
     "execution_count": 62,
     "metadata": {},
     "output_type": "execute_result"
    }
   ],
   "source": [
    "a.var() , a.var(axis=0) , a.var(axis=1)"
   ]
  },
  {
   "cell_type": "code",
   "execution_count": 63,
   "id": "078c867d-ee9a-42d5-9ed8-c48a90c44d3c",
   "metadata": {},
   "outputs": [
    {
     "data": {
      "text/plain": [
       "(25.269656815151954,\n",
       " array([12.5,  1.5,  5. ]),\n",
       " array([30.46673961, 18.19035153]))"
      ]
     },
     "execution_count": 63,
     "metadata": {},
     "output_type": "execute_result"
    }
   ],
   "source": [
    "a.std() , a.std(axis=0) , a.std(axis=1)"
   ]
  },
  {
   "cell_type": "markdown",
   "id": "99f9eb71-cd9c-4512-a42a-34c46ff929c1",
   "metadata": {},
   "source": [
    "## Unary functions :"
   ]
  },
  {
   "cell_type": "code",
   "execution_count": 64,
   "id": "c357d983-8d98-427c-9e2e-bfe8b392ab73",
   "metadata": {},
   "outputs": [
    {
     "data": {
      "text/plain": [
       "array([[ 22,  60,  73],\n",
       "       [ 94, -54, -71]])"
      ]
     },
     "execution_count": 64,
     "metadata": {},
     "output_type": "execute_result"
    }
   ],
   "source": [
    "a=np.random.randint(-100,100,[2,3])\n",
    "a"
   ]
  },
  {
   "cell_type": "code",
   "execution_count": 65,
   "id": "ef56f8f6-1717-437a-9942-07eab4593e5f",
   "metadata": {},
   "outputs": [
    {
     "data": {
      "text/plain": [
       "array([[22, 60, 73],\n",
       "       [94, 54, 71]])"
      ]
     },
     "execution_count": 65,
     "metadata": {},
     "output_type": "execute_result"
    }
   ],
   "source": [
    "np.abs(a)"
   ]
  },
  {
   "cell_type": "code",
   "execution_count": 66,
   "id": "e986155e-aeb3-4bb4-a16f-87a0e22471d3",
   "metadata": {},
   "outputs": [
    {
     "data": {
      "text/plain": [
       "array([[ 484, 3600, 5329],\n",
       "       [8836, 2916, 5041]])"
      ]
     },
     "execution_count": 66,
     "metadata": {},
     "output_type": "execute_result"
    }
   ],
   "source": [
    "np.square(a)"
   ]
  },
  {
   "cell_type": "code",
   "execution_count": 67,
   "id": "930be8de-4cf4-4867-ac8b-f4f64b883677",
   "metadata": {},
   "outputs": [
    {
     "data": {
      "text/plain": [
       "array([[ 1.5 ,  2.22, 11.95]])"
      ]
     },
     "execution_count": 67,
     "metadata": {},
     "output_type": "execute_result"
    }
   ],
   "source": [
    "a=np.array([[1.5,2.22,11.95]])\n",
    "a"
   ]
  },
  {
   "cell_type": "code",
   "execution_count": 68,
   "id": "061aed6e-af8c-4df0-b33e-60655470c9c0",
   "metadata": {},
   "outputs": [
    {
     "data": {
      "text/plain": [
       "array([[ 2.,  3., 12.]])"
      ]
     },
     "execution_count": 68,
     "metadata": {},
     "output_type": "execute_result"
    }
   ],
   "source": [
    "np.ceil(a) # compute smallest integer greater than or equal to a given no. for every element in array"
   ]
  },
  {
   "cell_type": "code",
   "execution_count": 69,
   "id": "c97f6f51-45a0-4981-8ef8-4e7694320231",
   "metadata": {},
   "outputs": [
    {
     "data": {
      "text/plain": [
       "array([[ 1.,  2., 11.]])"
      ]
     },
     "execution_count": 69,
     "metadata": {},
     "output_type": "execute_result"
    }
   ],
   "source": [
    "np.floor(a) # compute the largest integer lesser than or equal to a given no. for every element in array"
   ]
  },
  {
   "cell_type": "code",
   "execution_count": 70,
   "id": "817d88bf-738e-48c2-8c08-ef5d9e3b9c6f",
   "metadata": {},
   "outputs": [
    {
     "data": {
      "text/plain": [
       "array([[0.17609126, 0.34635297, 1.07736791]])"
      ]
     },
     "execution_count": 70,
     "metadata": {},
     "output_type": "execute_result"
    }
   ],
   "source": [
    "np.sqrt(a),\n",
    "np.exp(a),\n",
    "np.log(a)\n",
    "np.log2(a)\n",
    "np.log10(a)"
   ]
  },
  {
   "cell_type": "markdown",
   "id": "dd964189-7f0f-4ec0-9a54-9db2c52e1e3d",
   "metadata": {},
   "source": [
    "## Linear Algebra :"
   ]
  },
  {
   "cell_type": "code",
   "execution_count": 71,
   "id": "cf030af5-fbd8-4858-ad67-d4edd0f59d9f",
   "metadata": {},
   "outputs": [
    {
     "data": {
      "text/plain": [
       "array([[0.58497156, 0.97565766, 0.45858212],\n",
       "       [0.42821611, 0.16046271, 0.46574198],\n",
       "       [0.748651  , 0.27224696, 0.85580364]])"
      ]
     },
     "execution_count": 71,
     "metadata": {},
     "output_type": "execute_result"
    }
   ],
   "source": [
    "a=np.random.rand(3,3)\n",
    "a"
   ]
  },
  {
   "cell_type": "code",
   "execution_count": 72,
   "id": "eaa5ecd5-832a-480a-834c-11c2dc839cc1",
   "metadata": {},
   "outputs": [
    {
     "data": {
      "text/plain": [
       "array([0.58497156, 0.16046271, 0.85580364])"
      ]
     },
     "execution_count": 72,
     "metadata": {},
     "output_type": "execute_result"
    }
   ],
   "source": [
    "np.diag(a) # diagonal elements "
   ]
  },
  {
   "cell_type": "code",
   "execution_count": 73,
   "id": "1e39b162-2ad9-4ca4-b25f-cccd6205f5ab",
   "metadata": {},
   "outputs": [
    {
     "data": {
      "text/plain": [
       "1.601237905490125"
      ]
     },
     "execution_count": 73,
     "metadata": {},
     "output_type": "execute_result"
    }
   ],
   "source": [
    "np.trace(a) # return sum of element of diagonal"
   ]
  },
  {
   "cell_type": "code",
   "execution_count": 74,
   "id": "35bb9705-3cde-4bf3-87a3-2643d5e789a6",
   "metadata": {},
   "outputs": [
    {
     "data": {
      "text/plain": [
       "array([[0.58497156, 0.42821611, 0.748651  ],\n",
       "       [0.97565766, 0.16046271, 0.27224696],\n",
       "       [0.45858212, 0.46574198, 0.85580364]])"
      ]
     },
     "execution_count": 74,
     "metadata": {},
     "output_type": "execute_result"
    }
   ],
   "source": [
    "np.transpose(a) # transpose of matrix    "
   ]
  },
  {
   "cell_type": "code",
   "execution_count": 75,
   "id": "28440c4c-8917-404d-af1e-86e7f7f84fa9",
   "metadata": {},
   "outputs": [
    {
     "data": {
      "text/plain": [
       "array([[0.58497156, 0.42821611, 0.748651  ],\n",
       "       [0.97565766, 0.16046271, 0.27224696],\n",
       "       [0.45858212, 0.46574198, 0.85580364]])"
      ]
     },
     "execution_count": 75,
     "metadata": {},
     "output_type": "execute_result"
    }
   ],
   "source": [
    "a.T"
   ]
  },
  {
   "cell_type": "markdown",
   "id": "6d4c6908-4a05-4588-ba07-f92c1221a3f8",
   "metadata": {},
   "source": [
    "## L1 and L2 Norm :"
   ]
  },
  {
   "cell_type": "markdown",
   "id": "ccfa4185-226d-42e7-b141-cc5d28460abe",
   "metadata": {},
   "source": [
    "The norm function return the norm of an array along any axis specified. Norms are a way to quantify the magnitude of a one dim array (vector).\n",
    "\n",
    "* Two norm type relevant for our purpose are L1 and L2 norms.\n",
    "* L1 norm : It is the sum of absolute values of each element of the vector.\n",
    "* L2 norm : It is the square root of the sum of the square of each element in vector."
   ]
  },
  {
   "cell_type": "code",
   "execution_count": 76,
   "id": "3d1e3d5b-1ec7-44e3-b627-439b8d024e77",
   "metadata": {},
   "outputs": [
    {
     "data": {
      "text/plain": [
       "1.7077295291625587"
      ]
     },
     "execution_count": 76,
     "metadata": {},
     "output_type": "execute_result"
    }
   ],
   "source": [
    "# L2 norms :\n",
    "np.linalg.norm(a,2)"
   ]
  },
  {
   "cell_type": "code",
   "execution_count": 77,
   "id": "2c91c8ee-7e7b-4c09-9823-2bf79818e31f",
   "metadata": {},
   "outputs": [
    {
     "data": {
      "text/plain": [
       "array([1.04213198, 1.0255606 , 1.0768533 ])"
      ]
     },
     "execution_count": 77,
     "metadata": {},
     "output_type": "execute_result"
    }
   ],
   "source": [
    "np.linalg.norm(a,2,axis=0)"
   ]
  },
  {
   "cell_type": "code",
   "execution_count": 78,
   "id": "d503d2b1-88d3-44e8-809c-26a2876868b9",
   "metadata": {},
   "outputs": [
    {
     "data": {
      "text/plain": [
       "array([1.22653868, 0.65271197, 1.16918629])"
      ]
     },
     "execution_count": 78,
     "metadata": {},
     "output_type": "execute_result"
    }
   ],
   "source": [
    "np.linalg.norm(a,2,axis=1)"
   ]
  },
  {
   "cell_type": "markdown",
   "id": "6af3f08d-4d45-40b7-b333-de928d0a4998",
   "metadata": {},
   "source": [
    "#### L1 Norm :"
   ]
  },
  {
   "cell_type": "code",
   "execution_count": 79,
   "id": "d07c43a2-14c4-412e-afe5-e3d676a21f59",
   "metadata": {},
   "outputs": [
    {
     "data": {
      "text/plain": [
       "1.780127738226307"
      ]
     },
     "execution_count": 79,
     "metadata": {},
     "output_type": "execute_result"
    }
   ],
   "source": [
    "np.linalg.norm(a,1)"
   ]
  },
  {
   "cell_type": "code",
   "execution_count": 80,
   "id": "eb89e3a9-678c-40b6-85a4-a5ca43de83d6",
   "metadata": {},
   "outputs": [
    {
     "data": {
      "text/plain": [
       "array([1.76183866, 1.40836733, 1.78012774])"
      ]
     },
     "execution_count": 80,
     "metadata": {},
     "output_type": "execute_result"
    }
   ],
   "source": [
    "np.linalg.norm(a,1,axis=0)"
   ]
  },
  {
   "cell_type": "code",
   "execution_count": 81,
   "id": "a3725d93-8eed-406c-a3a0-0374ebb09ab1",
   "metadata": {},
   "outputs": [
    {
     "data": {
      "text/plain": [
       "array([2.01921133, 1.0544208 , 1.8767016 ])"
      ]
     },
     "execution_count": 81,
     "metadata": {},
     "output_type": "execute_result"
    }
   ],
   "source": [
    "np.linalg.norm(a,1,axis=1)"
   ]
  },
  {
   "cell_type": "markdown",
   "id": "ae040d65-abad-432b-9aae-86678d283858",
   "metadata": {},
   "source": [
    "#### Dot product :"
   ]
  },
  {
   "cell_type": "code",
   "execution_count": 82,
   "id": "4a1f81a6-d6f7-497b-b323-361100ff885a",
   "metadata": {},
   "outputs": [
    {
     "data": {
      "text/plain": [
       "(array([0.76906849, 0.9442091 , 0.62881577]),\n",
       " array([0.50469902, 0.83850094, 0.29704791]))"
      ]
     },
     "execution_count": 82,
     "metadata": {},
     "output_type": "execute_result"
    }
   ],
   "source": [
    "a1=np.random.rand(3)\n",
    "a2=np.random.rand(3)\n",
    "a1,a2"
   ]
  },
  {
   "cell_type": "code",
   "execution_count": 83,
   "id": "bc9b2533-c2cd-4f30-8422-8f4131820bd0",
   "metadata": {},
   "outputs": [
    {
     "data": {
      "text/plain": [
       "1.366656733933374"
      ]
     },
     "execution_count": 83,
     "metadata": {},
     "output_type": "execute_result"
    }
   ],
   "source": [
    "a_dot=(a1*a2).sum()\n",
    "a_dot"
   ]
  },
  {
   "cell_type": "code",
   "execution_count": 84,
   "id": "73e56e48-f542-400d-bc59-03f5b4204d15",
   "metadata": {},
   "outputs": [
    {
     "data": {
      "text/plain": [
       "1.366656733933374"
      ]
     },
     "execution_count": 84,
     "metadata": {},
     "output_type": "execute_result"
    }
   ],
   "source": [
    "np.dot(a1,a2)"
   ]
  },
  {
   "cell_type": "code",
   "execution_count": 85,
   "id": "5871d241-4968-4565-a5e1-67c3ae6578d5",
   "metadata": {},
   "outputs": [
    {
     "data": {
      "text/plain": [
       "1.366656733933374"
      ]
     },
     "execution_count": 85,
     "metadata": {},
     "output_type": "execute_result"
    }
   ],
   "source": [
    "a1 @ a2"
   ]
  },
  {
   "cell_type": "markdown",
   "id": "54a7880c-9ced-4998-a00e-c3a64ee4a225",
   "metadata": {},
   "source": [
    "#### Matrix Multiplication :"
   ]
  },
  {
   "cell_type": "code",
   "execution_count": 86,
   "id": "448da3d3-3847-4373-85e8-3e062090b841",
   "metadata": {},
   "outputs": [],
   "source": [
    "m1=np.random.randint(1,100,[2,3])\n",
    "m2=np.random.randint(50,75,[3,5])\n"
   ]
  },
  {
   "cell_type": "code",
   "execution_count": 87,
   "id": "aee66661-c43f-452a-b8d2-1cefcd74965a",
   "metadata": {},
   "outputs": [
    {
     "data": {
      "text/plain": [
       "array([[44, 83, 19],\n",
       "       [65, 90, 59]])"
      ]
     },
     "execution_count": 87,
     "metadata": {},
     "output_type": "execute_result"
    }
   ],
   "source": [
    "m1"
   ]
  },
  {
   "cell_type": "code",
   "execution_count": 88,
   "id": "02e6e3ab-76dd-46f1-96f6-7040a2140e57",
   "metadata": {},
   "outputs": [
    {
     "data": {
      "text/plain": [
       "array([[55, 59, 74, 66, 71],\n",
       "       [62, 74, 62, 55, 52],\n",
       "       [66, 70, 66, 58, 68]])"
      ]
     },
     "execution_count": 88,
     "metadata": {},
     "output_type": "execute_result"
    }
   ],
   "source": [
    "m2"
   ]
  },
  {
   "cell_type": "code",
   "execution_count": 89,
   "id": "4fa0ca1f-83dc-4579-a982-115d990dc2d2",
   "metadata": {},
   "outputs": [
    {
     "data": {
      "text/plain": [
       "array([[ 8820, 10068,  9656,  8571,  8732],\n",
       "       [13049, 14625, 14284, 12662, 13307]])"
      ]
     },
     "execution_count": 89,
     "metadata": {},
     "output_type": "execute_result"
    }
   ],
   "source": [
    "m_prod=m1@m2\n",
    "m_prod"
   ]
  },
  {
   "cell_type": "markdown",
   "id": "bc802841-4db7-4031-a3f8-1ecef891eedb",
   "metadata": {},
   "source": [
    "#### Concatenation of Array :"
   ]
  },
  {
   "cell_type": "code",
   "execution_count": 90,
   "id": "bfcffcaa-ba34-46f9-aa27-067160855a33",
   "metadata": {},
   "outputs": [],
   "source": [
    "m1=np.random.randint(1,100,[2,3])\n",
    "v1=np.random.randint(10,50,[1,3])\n",
    "v2=np.random.randint(10,50,[3,1])"
   ]
  },
  {
   "cell_type": "code",
   "execution_count": 91,
   "id": "74867245-5c48-42fe-b7be-d12759cfd80e",
   "metadata": {},
   "outputs": [
    {
     "data": {
      "text/plain": [
       "array([[88, 74,  1],\n",
       "       [19, 51, 76]])"
      ]
     },
     "execution_count": 91,
     "metadata": {},
     "output_type": "execute_result"
    }
   ],
   "source": [
    "m1"
   ]
  },
  {
   "cell_type": "code",
   "execution_count": 92,
   "id": "ce0a1569-0a7f-4883-8162-44134fdfe52e",
   "metadata": {},
   "outputs": [
    {
     "data": {
      "text/plain": [
       "array([[29, 20, 12]])"
      ]
     },
     "execution_count": 92,
     "metadata": {},
     "output_type": "execute_result"
    }
   ],
   "source": [
    "v1"
   ]
  },
  {
   "cell_type": "code",
   "execution_count": 93,
   "id": "f4149d6a-0d39-4924-ab5f-06bdd3aa33bd",
   "metadata": {},
   "outputs": [
    {
     "data": {
      "text/plain": [
       "array([[37],\n",
       "       [37],\n",
       "       [33]])"
      ]
     },
     "execution_count": 93,
     "metadata": {},
     "output_type": "execute_result"
    }
   ],
   "source": [
    "v2"
   ]
  },
  {
   "cell_type": "markdown",
   "id": "37f5b26d-81a3-4f31-9a5d-fbf8ea70959a",
   "metadata": {},
   "source": [
    "* Row wise Conatenation :"
   ]
  },
  {
   "cell_type": "code",
   "execution_count": 94,
   "id": "ff57b2b6-b411-43da-8eca-ba908a85f07c",
   "metadata": {},
   "outputs": [
    {
     "data": {
      "text/plain": [
       "array([[88, 74,  1],\n",
       "       [19, 51, 76],\n",
       "       [29, 20, 12]])"
      ]
     },
     "execution_count": 94,
     "metadata": {},
     "output_type": "execute_result"
    }
   ],
   "source": [
    "m2=np.concatenate((m1,v1),axis=0)\n",
    "m2"
   ]
  },
  {
   "cell_type": "code",
   "execution_count": 95,
   "id": "65d4212f-cd6e-4cf5-8555-582afe461fb6",
   "metadata": {},
   "outputs": [
    {
     "data": {
      "text/plain": [
       "array([[88, 74,  1],\n",
       "       [19, 51, 76],\n",
       "       [29, 20, 12]])"
      ]
     },
     "execution_count": 95,
     "metadata": {},
     "output_type": "execute_result"
    }
   ],
   "source": [
    "np.vstack((m1,v1))"
   ]
  },
  {
   "cell_type": "markdown",
   "id": "e1f453a1-5225-4987-b86f-8949f1fd8738",
   "metadata": {},
   "source": [
    "* Column wise Concatenate :"
   ]
  },
  {
   "cell_type": "code",
   "execution_count": 96,
   "id": "39844ba9-4f84-4814-bfd7-e0fcc4064992",
   "metadata": {},
   "outputs": [
    {
     "data": {
      "text/plain": [
       "array([[88, 74,  1, 37],\n",
       "       [19, 51, 76, 37],\n",
       "       [29, 20, 12, 33]])"
      ]
     },
     "execution_count": 96,
     "metadata": {},
     "output_type": "execute_result"
    }
   ],
   "source": [
    "np.concatenate((m2,v2),axis=1)"
   ]
  },
  {
   "cell_type": "code",
   "execution_count": 97,
   "id": "083f0c46-8491-4873-b2dc-118d2fb5b29f",
   "metadata": {},
   "outputs": [
    {
     "data": {
      "text/plain": [
       "array([[88, 74,  1, 37],\n",
       "       [19, 51, 76, 37],\n",
       "       [29, 20, 12, 33]])"
      ]
     },
     "execution_count": 97,
     "metadata": {},
     "output_type": "execute_result"
    }
   ],
   "source": [
    "np.hstack((m2,v2))"
   ]
  },
  {
   "cell_type": "markdown",
   "id": "a06b3ad6-e248-4505-b2e2-a353ee5da082",
   "metadata": {},
   "source": [
    "* Saving and loading numpy data"
   ]
  },
  {
   "cell_type": "code",
   "execution_count": 98,
   "id": "48c11e21-763d-4362-9d74-e8f2fe32e5fd",
   "metadata": {},
   "outputs": [
    {
     "data": {
      "text/plain": [
       "array([[57,  6, 71, 73, 69],\n",
       "       [30, 49, 59, 79, 40],\n",
       "       [67, 78, 21, 55, 87]])"
      ]
     },
     "execution_count": 98,
     "metadata": {},
     "output_type": "execute_result"
    }
   ],
   "source": [
    "a=np.random.randint(1,100,[3,5])\n",
    "a"
   ]
  },
  {
   "cell_type": "code",
   "execution_count": 99,
   "id": "bb9493a4-8c09-4221-bad1-a3d6380190b8",
   "metadata": {},
   "outputs": [],
   "source": [
    "name='array_a.npy'\n",
    "np.save(name,a)"
   ]
  },
  {
   "cell_type": "code",
   "execution_count": 100,
   "id": "a813858e-c603-4a05-a051-9862a5cb1437",
   "metadata": {},
   "outputs": [
    {
     "data": {
      "text/plain": [
       "array([[57,  6, 71, 73, 69],\n",
       "       [30, 49, 59, 79, 40],\n",
       "       [67, 78, 21, 55, 87]])"
      ]
     },
     "execution_count": 100,
     "metadata": {},
     "output_type": "execute_result"
    }
   ],
   "source": [
    "a=np.load('array_a.npy')\n",
    "a"
   ]
  },
  {
   "cell_type": "markdown",
   "id": "8ba1394d-1a96-45dc-9cec-0d4362e1feb1",
   "metadata": {},
   "source": [
    "# Pandas "
   ]
  },
  {
   "cell_type": "code",
   "execution_count": 101,
   "id": "dea6b9d3-541b-46e6-8a40-75f6c3183cc3",
   "metadata": {},
   "outputs": [],
   "source": [
    "import pandas as pd"
   ]
  },
  {
   "cell_type": "code",
   "execution_count": 102,
   "id": "26e430ac-f1e4-421b-8d9d-d4ca50f0f6cb",
   "metadata": {},
   "outputs": [
    {
     "data": {
      "text/plain": [
       "0    53\n",
       "1    16\n",
       "2    85\n",
       "3    24\n",
       "4    31\n",
       "dtype: int32"
      ]
     },
     "execution_count": 102,
     "metadata": {},
     "output_type": "execute_result"
    }
   ],
   "source": [
    "a=np.random.randint(1,100,5)\n",
    "s=pd.Series(a)\n",
    "s"
   ]
  },
  {
   "cell_type": "code",
   "execution_count": 103,
   "id": "ce7dca5a-24a6-44f7-86ee-b0cb5794af79",
   "metadata": {},
   "outputs": [
    {
     "data": {
      "text/plain": [
       "array([53, 16, 85, 24, 31])"
      ]
     },
     "execution_count": 103,
     "metadata": {},
     "output_type": "execute_result"
    }
   ],
   "source": [
    "s.values"
   ]
  },
  {
   "cell_type": "code",
   "execution_count": 104,
   "id": "0ac0be13-3da5-4676-a651-0cc51dfcfa3a",
   "metadata": {},
   "outputs": [
    {
     "data": {
      "text/plain": [
       "RangeIndex(start=0, stop=5, step=1)"
      ]
     },
     "execution_count": 104,
     "metadata": {},
     "output_type": "execute_result"
    }
   ],
   "source": [
    "s.index"
   ]
  },
  {
   "cell_type": "code",
   "execution_count": 105,
   "id": "33f9bc3b-cefe-4549-8007-ba1b7deca783",
   "metadata": {},
   "outputs": [
    {
     "data": {
      "text/plain": [
       "a    53\n",
       "b    16\n",
       "c    85\n",
       "d    24\n",
       "e    31\n",
       "dtype: int32"
      ]
     },
     "execution_count": 105,
     "metadata": {},
     "output_type": "execute_result"
    }
   ],
   "source": [
    "i1=['a','b','c','d','e']\n",
    "s1=pd.Series(a,index=i1)\n",
    "s1"
   ]
  },
  {
   "cell_type": "code",
   "execution_count": 106,
   "id": "2ed97573-de6d-4da0-aab5-ca6dfd3992e9",
   "metadata": {},
   "outputs": [
    {
     "data": {
      "text/plain": [
       "b    16\n",
       "c    85\n",
       "dtype: int32"
      ]
     },
     "execution_count": 106,
     "metadata": {},
     "output_type": "execute_result"
    }
   ],
   "source": [
    "s1[1:-2]"
   ]
  },
  {
   "cell_type": "code",
   "execution_count": 107,
   "id": "e18945bf-62cf-4272-96f5-b7ae1bef9336",
   "metadata": {},
   "outputs": [
    {
     "data": {
      "text/plain": [
       "b    16\n",
       "c    85\n",
       "d    24\n",
       "dtype: int32"
      ]
     },
     "execution_count": 107,
     "metadata": {},
     "output_type": "execute_result"
    }
   ],
   "source": [
    "s1['b':'d']"
   ]
  },
  {
   "cell_type": "code",
   "execution_count": 108,
   "id": "d3ad74dc-3826-45b5-aeb1-892d6d36e94f",
   "metadata": {},
   "outputs": [
    {
     "data": {
      "text/plain": [
       "bob      70\n",
       "sam      97\n",
       "john     63\n",
       "sally    50\n",
       "kim      65\n",
       "dtype: int64"
      ]
     },
     "execution_count": 108,
     "metadata": {},
     "output_type": "execute_result"
    }
   ],
   "source": [
    "people=['bob','sam','john','sally','kim']\n",
    "weights=[70,97,63,50,65]\n",
    "\n",
    "d={k:v for k, v in zip(people,weights)}\n",
    "s=pd.Series(d)\n",
    "s"
   ]
  },
  {
   "cell_type": "code",
   "execution_count": 109,
   "id": "7ceb8f4f-fdbd-4fab-bf75-796268486c49",
   "metadata": {},
   "outputs": [
    {
     "data": {
      "text/plain": [
       "bob      70\n",
       "sam      97\n",
       "john     63\n",
       "sally    50\n",
       "kim      65\n",
       "dtype: int64"
      ]
     },
     "execution_count": 109,
     "metadata": {},
     "output_type": "execute_result"
    }
   ],
   "source": [
    "pd.Series(weights,index=people)"
   ]
  },
  {
   "cell_type": "code",
   "execution_count": 110,
   "id": "946e18cf-8386-4563-814d-a12c0262a651",
   "metadata": {},
   "outputs": [
    {
     "data": {
      "text/plain": [
       "sam      97\n",
       "john     63\n",
       "sally    50\n",
       "kim      65\n",
       "dtype: int64"
      ]
     },
     "execution_count": 110,
     "metadata": {},
     "output_type": "execute_result"
    }
   ],
   "source": [
    "s['sam':'kim']"
   ]
  },
  {
   "cell_type": "code",
   "execution_count": 111,
   "id": "b26803a9-bda7-4757-ad10-d742e616541c",
   "metadata": {},
   "outputs": [
    {
     "data": {
      "text/plain": [
       "(97,\n",
       " 50,\n",
       " 69.0,\n",
       " 299.5,\n",
       " 17.30606829987678,\n",
       " 345,\n",
       " 1390252500,\n",
       " bob       70\n",
       " sam      167\n",
       " john     230\n",
       " sally    280\n",
       " kim      345\n",
       " dtype: int64,\n",
       " bob              70\n",
       " sam            6790\n",
       " john         427770\n",
       " sally      21388500\n",
       " kim      1390252500\n",
       " dtype: int64)"
      ]
     },
     "execution_count": 111,
     "metadata": {},
     "output_type": "execute_result"
    }
   ],
   "source": [
    "# attribues\n",
    "s.max(), s.min(), s.mean(),s.var(),s.std() ,s.sum(),s.prod(),s.cumsum(),s.cumprod()"
   ]
  },
  {
   "cell_type": "code",
   "execution_count": 112,
   "id": "42d8ed26-916d-495c-b151-bbfafe2e9eb1",
   "metadata": {},
   "outputs": [
    {
     "data": {
      "text/plain": [
       "{'sam': [60, 52, 5.9],\n",
       " 'jill': [55, 46, 5.4],\n",
       " 'kate': [19, 60, 5.8],\n",
       " 'jack': [36, 89, 6.3]}"
      ]
     },
     "execution_count": 112,
     "metadata": {},
     "output_type": "execute_result"
    }
   ],
   "source": [
    "d1=dict(sam=[60,52,5.9],\n",
    "        jill=[55,46,5.4],\n",
    "        kate=[19,60,5.8],\n",
    "        jack=[36,89,6.3])\n",
    "d1"
   ]
  },
  {
   "cell_type": "code",
   "execution_count": 113,
   "id": "3e851adb-cf91-4d6d-a0f4-99100586af23",
   "metadata": {},
   "outputs": [
    {
     "data": {
      "text/plain": [
       "{'age': [60, 55, 19, 36],\n",
       " 'weight': array([28, 18, 50, 14]),\n",
       " 'height': array([5., 5., 4., 5.])}"
      ]
     },
     "execution_count": 113,
     "metadata": {},
     "output_type": "execute_result"
    }
   ],
   "source": [
    "d2=dict(age=[60,55,19,36],\n",
    "        weight=np.random.randint(1,100,4),\n",
    "        height=np.random.uniform(4.1,5.1,4).round()\n",
    ")\n",
    "d2"
   ]
  },
  {
   "cell_type": "code",
   "execution_count": 114,
   "id": "dd17c5d1-7f67-437a-b184-6965ba94f98e",
   "metadata": {},
   "outputs": [
    {
     "data": {
      "text/html": [
       "<div>\n",
       "<style scoped>\n",
       "    .dataframe tbody tr th:only-of-type {\n",
       "        vertical-align: middle;\n",
       "    }\n",
       "\n",
       "    .dataframe tbody tr th {\n",
       "        vertical-align: top;\n",
       "    }\n",
       "\n",
       "    .dataframe thead th {\n",
       "        text-align: right;\n",
       "    }\n",
       "</style>\n",
       "<table border=\"1\" class=\"dataframe\">\n",
       "  <thead>\n",
       "    <tr style=\"text-align: right;\">\n",
       "      <th></th>\n",
       "      <th>age</th>\n",
       "      <th>weight</th>\n",
       "      <th>height</th>\n",
       "    </tr>\n",
       "  </thead>\n",
       "  <tbody>\n",
       "    <tr>\n",
       "      <th>0</th>\n",
       "      <td>60</td>\n",
       "      <td>28</td>\n",
       "      <td>5.0</td>\n",
       "    </tr>\n",
       "    <tr>\n",
       "      <th>1</th>\n",
       "      <td>55</td>\n",
       "      <td>18</td>\n",
       "      <td>5.0</td>\n",
       "    </tr>\n",
       "    <tr>\n",
       "      <th>2</th>\n",
       "      <td>19</td>\n",
       "      <td>50</td>\n",
       "      <td>4.0</td>\n",
       "    </tr>\n",
       "    <tr>\n",
       "      <th>3</th>\n",
       "      <td>36</td>\n",
       "      <td>14</td>\n",
       "      <td>5.0</td>\n",
       "    </tr>\n",
       "  </tbody>\n",
       "</table>\n",
       "</div>"
      ],
      "text/plain": [
       "   age  weight  height\n",
       "0   60      28     5.0\n",
       "1   55      18     5.0\n",
       "2   19      50     4.0\n",
       "3   36      14     5.0"
      ]
     },
     "execution_count": 114,
     "metadata": {},
     "output_type": "execute_result"
    }
   ],
   "source": [
    "df=pd.DataFrame(d2)\n",
    "df"
   ]
  },
  {
   "cell_type": "code",
   "execution_count": 115,
   "id": "f5573c7d-5bec-4663-914b-9c1bc9c62111",
   "metadata": {},
   "outputs": [
    {
     "data": {
      "text/html": [
       "<div>\n",
       "<style scoped>\n",
       "    .dataframe tbody tr th:only-of-type {\n",
       "        vertical-align: middle;\n",
       "    }\n",
       "\n",
       "    .dataframe tbody tr th {\n",
       "        vertical-align: top;\n",
       "    }\n",
       "\n",
       "    .dataframe thead th {\n",
       "        text-align: right;\n",
       "    }\n",
       "</style>\n",
       "<table border=\"1\" class=\"dataframe\">\n",
       "  <thead>\n",
       "    <tr style=\"text-align: right;\">\n",
       "      <th></th>\n",
       "      <th>age</th>\n",
       "      <th>weight</th>\n",
       "      <th>height</th>\n",
       "    </tr>\n",
       "  </thead>\n",
       "  <tbody>\n",
       "    <tr>\n",
       "      <th>sam</th>\n",
       "      <td>60</td>\n",
       "      <td>28</td>\n",
       "      <td>5.0</td>\n",
       "    </tr>\n",
       "    <tr>\n",
       "      <th>jill</th>\n",
       "      <td>55</td>\n",
       "      <td>18</td>\n",
       "      <td>5.0</td>\n",
       "    </tr>\n",
       "    <tr>\n",
       "      <th>kate</th>\n",
       "      <td>19</td>\n",
       "      <td>50</td>\n",
       "      <td>4.0</td>\n",
       "    </tr>\n",
       "    <tr>\n",
       "      <th>jack</th>\n",
       "      <td>36</td>\n",
       "      <td>14</td>\n",
       "      <td>5.0</td>\n",
       "    </tr>\n",
       "  </tbody>\n",
       "</table>\n",
       "</div>"
      ],
      "text/plain": [
       "      age  weight  height\n",
       "sam    60      28     5.0\n",
       "jill   55      18     5.0\n",
       "kate   19      50     4.0\n",
       "jack   36      14     5.0"
      ]
     },
     "execution_count": 115,
     "metadata": {},
     "output_type": "execute_result"
    }
   ],
   "source": [
    "df=pd.DataFrame(d2,index=d1.keys())\n",
    "df"
   ]
  },
  {
   "cell_type": "code",
   "execution_count": 116,
   "id": "ba104f37-eb2b-4eab-90df-73241ea3f710",
   "metadata": {},
   "outputs": [
    {
     "data": {
      "text/plain": [
       "Index([1, 2, 4, 6, 7, 9], dtype='int64')"
      ]
     },
     "execution_count": 116,
     "metadata": {},
     "output_type": "execute_result"
    }
   ],
   "source": [
    "index1=pd.Index([1,2,4,6,7,9])\n",
    "index1"
   ]
  },
  {
   "cell_type": "code",
   "execution_count": 117,
   "id": "dfd63bd5-df0c-46f1-97b3-6489311f89aa",
   "metadata": {},
   "outputs": [
    {
     "data": {
      "text/plain": [
       "Index([1, 2, 3, 5, 8, 10], dtype='int64')"
      ]
     },
     "execution_count": 117,
     "metadata": {},
     "output_type": "execute_result"
    }
   ],
   "source": [
    "index2=pd.Index([1,2,3,5,8,10])\n",
    "index2"
   ]
  },
  {
   "cell_type": "code",
   "execution_count": 118,
   "id": "0fe47161-5717-46cc-aa26-cabe16e83fb0",
   "metadata": {},
   "outputs": [
    {
     "ename": "NameError",
     "evalue": "name 'idx_1' is not defined",
     "output_type": "error",
     "traceback": [
      "\u001b[1;31m---------------------------------------------------------------------------\u001b[0m",
      "\u001b[1;31mNameError\u001b[0m                                 Traceback (most recent call last)",
      "Cell \u001b[1;32mIn[118], line 3\u001b[0m\n\u001b[0;32m      1\u001b[0m index1 \u001b[38;5;241m|\u001b[39m index2\n\u001b[1;32m----> 3\u001b[0m idx_1 \u001b[38;5;241m&\u001b[39m idx_2\n",
      "\u001b[1;31mNameError\u001b[0m: name 'idx_1' is not defined"
     ]
    }
   ],
   "source": [
    "index1 | index2\n",
    "\n",
    "idx_1 & idx_2"
   ]
  },
  {
   "cell_type": "code",
   "execution_count": null,
   "id": "a6b4fc30-fd82-4878-8ec9-943707e92513",
   "metadata": {},
   "outputs": [],
   "source": [
    "df"
   ]
  },
  {
   "cell_type": "code",
   "execution_count": null,
   "id": "06eb663e-fd8a-4619-aecd-d36f91e0c2fc",
   "metadata": {},
   "outputs": [],
   "source": [
    "name=\"sample_table.csv\"\n",
    "df.to_csv(name)"
   ]
  },
  {
   "cell_type": "code",
   "execution_count": null,
   "id": "44098d00-7846-4b9f-bca8-1a39a62c55f4",
   "metadata": {},
   "outputs": [],
   "source": [
    "df_cars=pd.read_csv(\"Automobile_data.csv\")"
   ]
  },
  {
   "cell_type": "code",
   "execution_count": null,
   "id": "357fe950-f5cb-4863-b610-e7df418ec53e",
   "metadata": {},
   "outputs": [],
   "source": [
    "df_cars.shape"
   ]
  },
  {
   "cell_type": "code",
   "execution_count": null,
   "id": "1460a389-7f83-478c-9592-21f4997fc198",
   "metadata": {},
   "outputs": [],
   "source": [
    "df_cars.index"
   ]
  },
  {
   "cell_type": "code",
   "execution_count": null,
   "id": "ca13074b-a730-4883-a429-aeb3ae4e105e",
   "metadata": {},
   "outputs": [],
   "source": [
    "df_cars.columns"
   ]
  },
  {
   "cell_type": "code",
   "execution_count": null,
   "id": "75330952-4d51-4a89-9df2-2663b1ff2dee",
   "metadata": {},
   "outputs": [],
   "source": [
    "## Head and tail sampling method :"
   ]
  },
  {
   "cell_type": "code",
   "execution_count": null,
   "id": "add5e820-1675-4286-a447-b8a5091862b0",
   "metadata": {},
   "outputs": [],
   "source": [
    "df_cars.head(10)"
   ]
  },
  {
   "cell_type": "code",
   "execution_count": null,
   "id": "3584a0bd-2322-4b15-ae77-7bf8bcac1c50",
   "metadata": {},
   "outputs": [],
   "source": [
    "df_cars.tail(10)"
   ]
  },
  {
   "cell_type": "code",
   "execution_count": null,
   "id": "bf56f5e2-e377-4ff7-a21c-ea6888a787e2",
   "metadata": {},
   "outputs": [],
   "source": [
    "### Info method : gives info about datatypes and the non null value"
   ]
  },
  {
   "cell_type": "code",
   "execution_count": null,
   "id": "7ca9f9cd-3436-451f-8e4f-73319ee2787e",
   "metadata": {},
   "outputs": [],
   "source": [
    "df_cars.info()"
   ]
  },
  {
   "cell_type": "markdown",
   "id": "ba943c6a-518d-409c-9adb-5bea16c898e9",
   "metadata": {},
   "source": [
    "#### Describe :\n",
    "Gives statical summary of all columns that contains numerical values. (count ,mean std,min,max,25th,50th and 75th percentile values )"
   ]
  },
  {
   "cell_type": "code",
   "execution_count": null,
   "id": "b5b909a1-8ff8-424a-aeae-6ce69a2c7c03",
   "metadata": {},
   "outputs": [],
   "source": [
    "df_cars.describe()"
   ]
  },
  {
   "cell_type": "code",
   "execution_count": null,
   "id": "be4fa066-dccd-4313-810a-1726d55994be",
   "metadata": {},
   "outputs": [],
   "source": [
    "### DataFrame column attributes :"
   ]
  },
  {
   "cell_type": "code",
   "execution_count": null,
   "id": "b4a8623f-82bc-492e-b8cf-26b04fa23e1f",
   "metadata": {},
   "outputs": [],
   "source": [
    "df_cars.make"
   ]
  },
  {
   "cell_type": "code",
   "execution_count": null,
   "id": "d91af6bf-f85d-4d27-b996-2d05fb19513d",
   "metadata": {},
   "outputs": [],
   "source": [
    "df_cars.price"
   ]
  },
  {
   "cell_type": "markdown",
   "id": "4e84d377-1c0c-444e-ba83-8d00f64b93eb",
   "metadata": {},
   "source": [
    "### Unique method :"
   ]
  },
  {
   "cell_type": "code",
   "execution_count": null,
   "id": "c62e95c2-980e-42df-991f-c4810e4c5c29",
   "metadata": {},
   "outputs": [],
   "source": [
    "df_cars.make.unique()"
   ]
  },
  {
   "cell_type": "markdown",
   "id": "11382b93-c621-48b8-89f0-6130ac7aaa45",
   "metadata": {},
   "source": [
    "### Value count :"
   ]
  },
  {
   "cell_type": "code",
   "execution_count": null,
   "id": "61357448-b9d6-4ae9-88f3-4f7a379472f8",
   "metadata": {},
   "outputs": [],
   "source": [
    "df_cars.make.value_counts()"
   ]
  },
  {
   "cell_type": "markdown",
   "id": "d897bc5c-b137-4458-bfc8-22db01d2fa4e",
   "metadata": {},
   "source": [
    "### Plot Method :"
   ]
  },
  {
   "cell_type": "code",
   "execution_count": null,
   "id": "2b7ec417-6fb7-4d7c-8b25-f2b1732248d2",
   "metadata": {},
   "outputs": [],
   "source": [
    "df_cars.make.value_counts().plot(kind='bar')"
   ]
  },
  {
   "cell_type": "code",
   "execution_count": null,
   "id": "5a438b46-ec22-4dc1-9440-a980726a0af4",
   "metadata": {},
   "outputs": [],
   "source": [
    "### Histogram :\n",
    "# df_cars.price.plot(kind='hist')\n",
    "\n",
    "### scatter plot :\n",
    "# df_cars.plot(x='hp',y='mpg',king='scatter')"
   ]
  },
  {
   "cell_type": "markdown",
   "id": "61bffece-a973-4ff5-93f5-64dff4e1d87b",
   "metadata": {},
   "source": [
    "### Drop method :"
   ]
  },
  {
   "cell_type": "code",
   "execution_count": null,
   "id": "9feeb294-1cf2-46d2-997f-798a054b4335",
   "metadata": {},
   "outputs": [],
   "source": [
    "df_cars.drop([1,2,5,7]).head()\n",
    "# df_cars.drop(['drive','peak_rpm'],axis=1).head()"
   ]
  },
  {
   "cell_type": "code",
   "execution_count": null,
   "id": "fcf2cc4b-cd1a-453e-9bef-4e8ebd27cee2",
   "metadata": {},
   "outputs": [],
   "source": [
    "### sort values : sort_values('column_name',ascending=False).head()\n",
    "df_cars.sort_values('peak-rpm',ascending=False).head()"
   ]
  },
  {
   "cell_type": "markdown",
   "id": "321baff0-ad0c-4b6f-bea1-6060f8ab3b9d",
   "metadata": {},
   "source": [
    "### Assign Method :\n",
    "Used to create a new dataframe containing the same values as the orginal \n",
    "dataframe to which it was applied to but with new column assigned to it."
   ]
  },
  {
   "cell_type": "code",
   "execution_count": null,
   "id": "2ca13855-a711-4103-90bb-f34ec1582b37",
   "metadata": {},
   "outputs": [],
   "source": [
    "df_cars2=df_cars.assign(mpg=np.random.randint(20,30))\n",
    "df_cars2.head()"
   ]
  },
  {
   "cell_type": "markdown",
   "id": "1c684a15-6326-4f5c-aa37-5177753cb585",
   "metadata": {},
   "source": [
    "### The insert method :"
   ]
  },
  {
   "cell_type": "code",
   "execution_count": null,
   "id": "ed818131-5a11-49b2-b7ac-255b121003b4",
   "metadata": {},
   "outputs": [],
   "source": [
    "mpg=df_cars2['highway-mpg']"
   ]
  },
  {
   "cell_type": "code",
   "execution_count": null,
   "id": "46e4083d-7017-40f2-a82b-235e69b6423f",
   "metadata": {},
   "outputs": [],
   "source": [
    "#df_cars.insert(loc=5,column='mpg',value=mpg)\n",
    "df_cars.head()"
   ]
  },
  {
   "cell_type": "markdown",
   "id": "198d37b8-559e-4ebf-bfcc-5fab33a757e2",
   "metadata": {},
   "source": [
    "### groupby method:\n",
    "groupby numerical columns to the categorical values."
   ]
  },
  {
   "cell_type": "code",
   "execution_count": null,
   "id": "6f7210ec-2962-4a9c-ad4a-41783a3561a1",
   "metadata": {},
   "outputs": [],
   "source": [
    "# df_drive=df_cars.groupby('drive-wheels').mean()\n",
    "# df_drive"
   ]
  },
  {
   "cell_type": "markdown",
   "id": "e332dd65-add3-4487-bb51-2a63e56af063",
   "metadata": {},
   "source": [
    "### Handling missing data :"
   ]
  },
  {
   "cell_type": "code",
   "execution_count": null,
   "id": "3b6676cf-e6e9-40d0-bed7-f51ba8a25417",
   "metadata": {},
   "outputs": [],
   "source": [
    "n=np.nan\n",
    "n,type(n)"
   ]
  },
  {
   "cell_type": "code",
   "execution_count": null,
   "id": "30bf2a5e-0625-4700-834c-8f87792ddbc9",
   "metadata": {},
   "outputs": [],
   "source": [
    "l=[11,2,None,np.nan,5,772]\n",
    "s=pd.Series(l)\n",
    "s"
   ]
  },
  {
   "cell_type": "code",
   "execution_count": null,
   "id": "e98a8f51-34ea-4d9e-af57-624514746524",
   "metadata": {},
   "outputs": [],
   "source": [
    "s.mean(),s.std()"
   ]
  },
  {
   "cell_type": "code",
   "execution_count": null,
   "id": "c700d847-907d-4bf2-8f76-8824d8a88b76",
   "metadata": {},
   "outputs": [],
   "source": [
    "s.cumsum(),s.cumprod()"
   ]
  },
  {
   "cell_type": "code",
   "execution_count": null,
   "id": "389d21a7-eaa0-44ce-ba9a-a5314d1bb089",
   "metadata": {},
   "outputs": [],
   "source": [
    "df_cars.isna().sample(5) # isna() : true represent values missing"
   ]
  },
  {
   "cell_type": "code",
   "execution_count": null,
   "id": "46eb6a92-8e37-4154-a367-72a043f76b73",
   "metadata": {},
   "outputs": [],
   "source": [
    "null_cols=df_cars.isna().sum()\n",
    "null_cols"
   ]
  },
  {
   "cell_type": "markdown",
   "id": "65566533-b877-4fff-a088-ae56da991fa7",
   "metadata": {},
   "source": [
    "### finding the rows are missing values :"
   ]
  },
  {
   "cell_type": "code",
   "execution_count": null,
   "id": "de45638e-3975-490d-a0f5-e1ffcd6c9aeb",
   "metadata": {},
   "outputs": [],
   "source": [
    "null_rows=df_cars.isna().sum(axis=1)\n",
    "null_rows"
   ]
  },
  {
   "cell_type": "code",
   "execution_count": null,
   "id": "b4f71035-8f09-41da-8309-48fb69de6d63",
   "metadata": {},
   "outputs": [],
   "source": [
    "np.where(null_rows)"
   ]
  },
  {
   "cell_type": "code",
   "execution_count": null,
   "id": "ea05b3d6-f5df-45de-b491-e38760ca4d40",
   "metadata": {},
   "outputs": [],
   "source": [
    "## dropna method for droping columns with missing values"
   ]
  },
  {
   "cell_type": "code",
   "execution_count": null,
   "id": "6cc5e0b4-1126-4f96-8834-812093729f54",
   "metadata": {},
   "outputs": [],
   "source": [
    "df_cars.dropna().shape"
   ]
  },
  {
   "cell_type": "code",
   "execution_count": null,
   "id": "59f491e7-3463-4010-90f5-9e71abb30ec7",
   "metadata": {},
   "outputs": [],
   "source": [
    "df_cars.dropna(axis=1).shape"
   ]
  },
  {
   "cell_type": "code",
   "execution_count": null,
   "id": "dec964d5-7086-4fdf-9fad-d88691315bd6",
   "metadata": {},
   "outputs": [],
   "source": [
    "### fillna : used to fill missing values."
   ]
  },
  {
   "cell_type": "code",
   "execution_count": null,
   "id": "7740246b-55d3-423b-a2e9-2d7534a01d33",
   "metadata": {},
   "outputs": [],
   "source": [
    "s=pd.Series(l)\n",
    "s"
   ]
  },
  {
   "cell_type": "code",
   "execution_count": null,
   "id": "853835a5-de07-4d7f-84fe-05f87d6c6c84",
   "metadata": {},
   "outputs": [],
   "source": [
    "s.fillna(0) ## filling with zeros"
   ]
  },
  {
   "cell_type": "code",
   "execution_count": null,
   "id": "ea30b102-151d-42ad-8548-62e8baff0257",
   "metadata": {},
   "outputs": [],
   "source": [
    "s.fillna(s.median()) # filling with  median"
   ]
  },
  {
   "cell_type": "markdown",
   "id": "217f73f3-8c87-48a5-bb91-0f5b2a44cbf7",
   "metadata": {},
   "source": [
    "## Data selection and slicing :"
   ]
  },
  {
   "cell_type": "code",
   "execution_count": null,
   "id": "f856d117-036e-40c4-ae78-e6b5e34f9905",
   "metadata": {},
   "outputs": [],
   "source": [
    "df_cars.iloc[100:105,6:] ## rows 100t0 105 and column from 6 ownwards."
   ]
  },
  {
   "cell_type": "code",
   "execution_count": null,
   "id": "5ee2f47d-39e4-4f73-9e7c-6f31af45b069",
   "metadata": {},
   "outputs": [],
   "source": [
    "df_cars.loc[100:105,'drive-wheels'] #selecting a named column (loc is used)"
   ]
  },
  {
   "cell_type": "markdown",
   "id": "047caa43-dab1-458f-9045-3b0b6174f84e",
   "metadata": {},
   "source": [
    "### Conditonal Slicing :"
   ]
  },
  {
   "cell_type": "code",
   "execution_count": null,
   "id": "fe07a2ef-d89e-4823-a6d2-674bed1984f9",
   "metadata": {},
   "outputs": [],
   "source": [
    "cond=df_cars.make=='alfa-romero'\n",
    "df_cars[cond]"
   ]
  },
  {
   "cell_type": "code",
   "execution_count": null,
   "id": "c18d5e3e-38f7-4cc8-b710-b12105ae9d2b",
   "metadata": {},
   "outputs": [],
   "source": [
    "# cond1=df_cars.price<=6650\n",
    "# cond2=df_cars.mpg>=df_cars.mpg.mean()\n",
    "# df_cars[cond1 & cond2]"
   ]
  },
  {
   "cell_type": "markdown",
   "id": "0d1a754f-a3bf-466f-9f91-cbb72a023fef",
   "metadata": {},
   "source": [
    "### Combining data frame :"
   ]
  },
  {
   "cell_type": "markdown",
   "id": "fa1c37a8-07ec-45e6-bbae-8e7caedf07a9",
   "metadata": {},
   "source": [
    "1. Inner join : one combine row share data . 2 df share a column that descrive the same feature about the data.\n",
    "2. Outer Join : it is combn of all rows in any one df and union of both the rows "
   ]
  },
  {
   "cell_type": "code",
   "execution_count": null,
   "id": "ebe8bada-ba0b-4f1e-98e4-23878da1d173",
   "metadata": {},
   "outputs": [],
   "source": [
    "df1=pd.DataFrame({'F1':range(5),'F2':[11,22,33,44,55]},index=['a','b','c','d','e'])\n",
    "df1"
   ]
  },
  {
   "cell_type": "code",
   "execution_count": null,
   "id": "a2f8db08-f72b-4572-a87a-1ed48912f1d0",
   "metadata": {},
   "outputs": [],
   "source": [
    "df2=pd.DataFrame({'F3':range(4),'F4':[111,222,333,444]},index=['A','B','Y','Z'])\n",
    "df2"
   ]
  },
  {
   "cell_type": "code",
   "execution_count": null,
   "id": "1592b97f-e8a0-460b-aefb-a150e688b7d9",
   "metadata": {},
   "outputs": [],
   "source": [
    "df3=pd.merge(df1,df2,left_index=True,right_index=True)\n",
    "df3 # Inner join"
   ]
  },
  {
   "cell_type": "code",
   "execution_count": null,
   "id": "feda3241-ed2c-494f-ba1b-ce8daa4e94d6",
   "metadata": {},
   "outputs": [],
   "source": [
    "### Apply fn:"
   ]
  },
  {
   "cell_type": "code",
   "execution_count": null,
   "id": "61d98625-1f97-4da9-8b0b-273ce4d6f60c",
   "metadata": {},
   "outputs": [],
   "source": [
    "def exaple_fn(x):return (x**2)/2\n",
    "\n",
    "df1=df1.apply(exaple_fn)\n",
    "df1"
   ]
  },
  {
   "cell_type": "markdown",
   "id": "c5ab46c6-4ce4-46d1-8b5b-1e945924f4e1",
   "metadata": {},
   "source": [
    "### Feature Selection (Correlation):\n",
    "feature selection done if there are soo many feature,mangable set of features that are importand than rese"
   ]
  },
  {
   "cell_type": "code",
   "execution_count": null,
   "id": "d9bf6abb-a716-45ac-a08f-f40f1b0c7ab2",
   "metadata": {},
   "outputs": [],
   "source": [
    "df.colums=['f'+str(i) for i in range(df.shape[1]-1)]+['labels']\n",
    "df.head()  ## boston house data"
   ]
  },
  {
   "cell_type": "markdown",
   "id": "f367c0f7-06bd-48d1-a707-2cde8a88f2bb",
   "metadata": {},
   "source": [
    "this converted above in column name from f0 to f11 (i.e feature 0 to 11 ) and label"
   ]
  },
  {
   "cell_type": "markdown",
   "id": "3bb7e16b-0f33-4b16-ac9e-118e99307fb0",
   "metadata": {},
   "source": [
    "### correlation method:\n",
    "computes correlation of every column in dataframe with every other column and represnt in form of correlation"
   ]
  },
  {
   "cell_type": "code",
   "execution_count": null,
   "id": "b40b1703-b9ad-4857-95fe-3ffcce52cd1b",
   "metadata": {},
   "outputs": [],
   "source": [
    "df_corr=df.corr().abs()\n",
    "df_corr"
   ]
  },
  {
   "cell_type": "code",
   "execution_count": null,
   "id": "bad2f088-58fb-4912-adb5-aff80b0a6f1e",
   "metadata": {},
   "outputs": [],
   "source": [
    "df_corr.style.background_gradient()"
   ]
  },
  {
   "cell_type": "markdown",
   "id": "1d888ca6-3667-4c2b-ae43-039c9574c27e",
   "metadata": {},
   "source": [
    "* dig ele : corresponds to dakest as they correlation with themselves.\n",
    "* Objective of Feature selection using correlation :\n",
    "\n",
    "1. We mant to choose thsoe feature(col) that are more correlated to the labels .(as we ulimately use them to predict colms) Hence we drop those feature that have a correlation lesser than some specified threshold.\n",
    "2. We want to select those features that are not too correlated with each other, since a high degree of correlation b/w two feature that both are similar and only one of them would actually be necesary."
   ]
  },
  {
   "cell_type": "markdown",
   "id": "a04f1b97-d256-4503-90a7-bbb9c11b9476",
   "metadata": {},
   "source": [
    "### we achive this as follows :"
   ]
  },
  {
   "cell_type": "markdown",
   "id": "a7209146-fada-4350-884d-150db5db9ff1",
   "metadata": {},
   "source": [
    "1. first create a copy of df_corr copy"
   ]
  },
  {
   "cell_type": "code",
   "execution_count": null,
   "id": "e64df84d-426e-48a7-a9f9-5ec5050491fe",
   "metadata": {},
   "outputs": [],
   "source": [
    "df_corr1=df_corr.copy().abs()"
   ]
  },
  {
   "cell_type": "markdown",
   "id": "895ab08c-8ba9-4606-8c14-d990728a3e3e",
   "metadata": {},
   "source": [
    "2. The 'label' column of df_corr1 contain the correlation of all the columns w.r.t labels. We first sort the labels in descending order"
   ]
  },
  {
   "cell_type": "code",
   "execution_count": null,
   "id": "683aef87-e309-40c4-b425-48b1cfe0899d",
   "metadata": {},
   "outputs": [],
   "source": [
    "# ser_label_corr=df_corr1.label.sort_values(ascending=False)\n",
    "# ser_label_corr"
   ]
  }
 ],
 "metadata": {
  "kernelspec": {
   "display_name": "Python 3 (ipykernel)",
   "language": "python",
   "name": "python3"
  },
  "language_info": {
   "codemirror_mode": {
    "name": "ipython",
    "version": 3
   },
   "file_extension": ".py",
   "mimetype": "text/x-python",
   "name": "python",
   "nbconvert_exporter": "python",
   "pygments_lexer": "ipython3",
   "version": "3.12.7"
  }
 },
 "nbformat": 4,
 "nbformat_minor": 5
}
