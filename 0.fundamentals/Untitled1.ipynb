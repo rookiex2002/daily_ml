{
 "cells": [
  {
   "cell_type": "markdown",
   "id": "2520cf4d-d5f3-40ec-8b95-345296ad5d64",
   "metadata": {},
   "source": [
    "## Mean"
   ]
  },
  {
   "cell_type": "code",
   "execution_count": 46,
   "id": "09e97956-0a6a-4671-8a44-46fd8baa3f0c",
   "metadata": {},
   "outputs": [],
   "source": [
    "import numpy as np"
   ]
  },
  {
   "cell_type": "code",
   "execution_count": 47,
   "id": "e6425ba5-dc15-43dc-b417-19ff4ae1fbac",
   "metadata": {},
   "outputs": [],
   "source": [
    "ls=np.random.randint(1,100,10)"
   ]
  },
  {
   "cell_type": "code",
   "execution_count": 48,
   "id": "39dbc165-992c-4cd9-a4b4-b70207b7cf72",
   "metadata": {},
   "outputs": [
    {
     "data": {
      "text/plain": [
       "[3, 3, 8, 45, 61, 62, 72, 81, 85, 87]"
      ]
     },
     "execution_count": 48,
     "metadata": {},
     "output_type": "execute_result"
    }
   ],
   "source": [
    "ls=sorted(ls)\n",
    "ls"
   ]
  },
  {
   "cell_type": "code",
   "execution_count": 49,
   "id": "c9727ce3-4f8e-46b6-9128-b3f253c76b10",
   "metadata": {},
   "outputs": [
    {
     "data": {
      "text/plain": [
       "50.7"
      ]
     },
     "execution_count": 49,
     "metadata": {},
     "output_type": "execute_result"
    }
   ],
   "source": [
    "ls_mean=sum(ls)/len(ls)\n",
    "ls_mean"
   ]
  },
  {
   "cell_type": "code",
   "execution_count": 50,
   "id": "17dcbd50-6f6d-4195-ba4a-d9a5e4327033",
   "metadata": {},
   "outputs": [],
   "source": [
    "## median "
   ]
  },
  {
   "cell_type": "code",
   "execution_count": 82,
   "id": "d302e4e6-4cf4-48dc-b0ac-ad763b21776e",
   "metadata": {},
   "outputs": [
    {
     "data": {
      "text/plain": [
       "61.5"
      ]
     },
     "execution_count": 82,
     "metadata": {},
     "output_type": "execute_result"
    }
   ],
   "source": [
    "med=((ls[len(ls)//2-1])+(ls[len(ls)//2]))/2\n",
    "med"
   ]
  },
  {
   "cell_type": "code",
   "execution_count": 60,
   "id": "014dfb31-0773-42ef-aa02-19629b6d5bbb",
   "metadata": {},
   "outputs": [],
   "source": [
    "## variance"
   ]
  },
  {
   "cell_type": "code",
   "execution_count": 71,
   "id": "f92e429a-4116-4039-8657-7085170d6d1a",
   "metadata": {},
   "outputs": [
    {
     "name": "stdout",
     "output_type": "stream",
     "text": [
      "2275.2900000000004\n",
      "4550.580000000001\n",
      "6373.870000000001\n",
      "6406.360000000001\n",
      "6512.450000000001\n",
      "6640.14\n",
      "7093.83\n",
      "8011.92\n",
      "9188.41\n",
      "10506.1\n"
     ]
    },
    {
     "data": {
      "text/plain": [
       "1050.6100000000001"
      ]
     },
     "execution_count": 71,
     "metadata": {},
     "output_type": "execute_result"
    }
   ],
   "source": [
    "total=0\n",
    "for i in ls:\n",
    "    total+=pow(i-ls_mean,2)\n",
    "    print(total)\n",
    "\n",
    "var=total/len(ls)\n",
    "var"
   ]
  },
  {
   "cell_type": "code",
   "execution_count": 66,
   "id": "73e00321-f4d1-43bd-bb1f-490c40bd50db",
   "metadata": {},
   "outputs": [],
   "source": [
    "### std dev"
   ]
  },
  {
   "cell_type": "code",
   "execution_count": 69,
   "id": "00282b72-249c-44f3-9db2-e148d01fcc6a",
   "metadata": {},
   "outputs": [
    {
     "data": {
      "text/plain": [
       "32.41311462972974"
      ]
     },
     "execution_count": 69,
     "metadata": {},
     "output_type": "execute_result"
    }
   ],
   "source": [
    "std=np.sqrt(var)\n",
    "std"
   ]
  },
  {
   "cell_type": "code",
   "execution_count": 74,
   "id": "42bf97cb-39c5-4ca8-b963-d3aa7bcb3f1f",
   "metadata": {},
   "outputs": [
    {
     "data": {
      "text/plain": [
       "61.5"
      ]
     },
     "execution_count": 74,
     "metadata": {},
     "output_type": "execute_result"
    }
   ],
   "source": [
    "## Iqr\n",
    "\n",
    "Q1=np.percentile(ls,25)\n",
    "Q3=np.percentile(ls,75)\n",
    "\n",
    "IQR=Q3-Q1\n",
    "IQR"
   ]
  },
  {
   "cell_type": "markdown",
   "id": "223a0ff2-a369-4a85-9f5a-8c27525d8cda",
   "metadata": {},
   "source": [
    "## 90th percentil and 99th percentile :"
   ]
  },
  {
   "cell_type": "code",
   "execution_count": 75,
   "id": "f384c0b3-0c92-4fb7-b29c-66cba41043e0",
   "metadata": {},
   "outputs": [
    {
     "data": {
      "text/plain": [
       "(85.2, 86.82)"
      ]
     },
     "execution_count": 75,
     "metadata": {},
     "output_type": "execute_result"
    }
   ],
   "source": [
    "percentile_90=np.percentile(ls,90)\n",
    "percentile_99=np.percentile(ls,99)\n",
    "\n",
    "percentile_90,percentile_99"
   ]
  },
  {
   "cell_type": "code",
   "execution_count": 76,
   "id": "c69cdb7a-e585-48df-8d4e-8efa65a6f572",
   "metadata": {},
   "outputs": [],
   "source": [
    "## median absolute deviation :"
   ]
  },
  {
   "cell_type": "code",
   "execution_count": 78,
   "id": "58127412-7b5a-45b1-a3a8-eff51650e5b5",
   "metadata": {},
   "outputs": [
    {
     "data": {
      "text/plain": [
       "267.0"
      ]
     },
     "execution_count": 78,
     "metadata": {},
     "output_type": "execute_result"
    }
   ],
   "source": [
    "total=0\n",
    "for i in ls:\n",
    "    total+=abs(i-med)\n",
    "\n",
    "total"
   ]
  },
  {
   "cell_type": "code",
   "execution_count": 81,
   "id": "6d068944-970b-4a0d-ac99-833e8e869324",
   "metadata": {},
   "outputs": [
    {
     "data": {
      "text/plain": [
       "62"
      ]
     },
     "execution_count": 81,
     "metadata": {},
     "output_type": "execute_result"
    }
   ],
   "source": [
    "def find_median(arr):\n",
    "    n=len(arr)\n",
    "    if n%2++0:\n",
    "        return (arr[n//2 -1]+arr[n//2])/2\n",
    "    else:\n",
    "        return arr[n//2]\n",
    "median=find_median(ls)\n",
    "median"
   ]
  },
  {
   "cell_type": "code",
   "execution_count": 84,
   "id": "deb341c8-7c6c-44a2-a513-a26e56de3690",
   "metadata": {},
   "outputs": [
    {
     "data": {
      "text/plain": [
       "71.0"
      ]
     },
     "execution_count": 84,
     "metadata": {},
     "output_type": "execute_result"
    }
   ],
   "source": [
    "## find first quartile (Q1) and Q3 (third quartile):\n",
    "def find_quartile(arr,quartile):\n",
    "    n=len(arr)\n",
    "    if quartile==1:\n",
    "        return find_median(arr[:n//2]) # lowe half for Q1\n",
    "    else:\n",
    "        if n%2==0:\n",
    "            return find_median(arr[n//2:]) # upper half of Q#\n",
    "        else:\n",
    "            return find_median(arr[n//2 +1:]) # upper half excluding the median\n",
    "\n",
    "Q1=find_quartile(ls,1)\n",
    "Q3=find_quartile(ls,3)\n",
    "\n",
    "IQR=Q3-Q1\n",
    "IQR"
   ]
  },
  {
   "cell_type": "code",
   "execution_count": 85,
   "id": "c82b9da4-fadc-4999-adb6-8c46f68b9fb5",
   "metadata": {},
   "outputs": [],
   "source": [
    "## absolute deviation"
   ]
  },
  {
   "cell_type": "code",
   "execution_count": 89,
   "id": "f913874c-8714-4379-a6b7-85828d8d846d",
   "metadata": {},
   "outputs": [
    {
     "name": "stdout",
     "output_type": "stream",
     "text": [
      "The Median Absolute Deviation (MAD) is: 0.5\n"
     ]
    }
   ],
   "source": [
    "# Sample data\n",
    "data = [3, 3, 8, 45, 61, 62, 72, 81, 85, 87]\n",
    "\n",
    "# Step 1: Sort the data\n",
    "data_sorted = sorted(data)\n",
    "\n",
    "# Step 2: Find the median (Q2)\n",
    "def find_median(arr):\n",
    "    n = len(arr)\n",
    "    if n % 2 == 0:\n",
    "        return (arr[n // 2 - 1] + arr[n // 2]) / 2\n",
    "    else:\n",
    "        return arr[n // 2]\n",
    "\n",
    "median = find_median(data_sorted)\n",
    "\n",
    "# Step 3: Calculate the absolute deviations from the median\n",
    "absolute_deviations = [abs(x - median) for x in data_sorted]\n",
    "\n",
    "# Step 4: Find the median of the absolute deviations (MAD)\n",
    "MAD = find_median(absolute_deviations)\n",
    "\n",
    "# Output the MAD\n",
    "print(f\"The Median Absolute Deviation (MAD) is: {MAD}\")\n"
   ]
  },
  {
   "cell_type": "code",
   "execution_count": 90,
   "id": "41fd042f-7452-45f1-9eb5-b31d117a2708",
   "metadata": {},
   "outputs": [
    {
     "data": {
      "text/plain": [
       "0"
      ]
     },
     "execution_count": 90,
     "metadata": {},
     "output_type": "execute_result"
    }
   ],
   "source": []
  }
 ],
 "metadata": {
  "kernelspec": {
   "display_name": "Python 3 (ipykernel)",
   "language": "python",
   "name": "python3"
  },
  "language_info": {
   "codemirror_mode": {
    "name": "ipython",
    "version": 3
   },
   "file_extension": ".py",
   "mimetype": "text/x-python",
   "name": "python",
   "nbconvert_exporter": "python",
   "pygments_lexer": "ipython3",
   "version": "3.12.7"
  }
 },
 "nbformat": 4,
 "nbformat_minor": 5
}
