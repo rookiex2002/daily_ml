{
 "cells": [
  {
   "cell_type": "markdown",
   "id": "a164988d-ed25-4e65-b981-7c4fcffd8149",
   "metadata": {},
   "source": [
    "### None value"
   ]
  },
  {
   "cell_type": "code",
   "execution_count": 3,
   "id": "04f4a839-3fa5-4d8a-a184-9a53d13dd90b",
   "metadata": {},
   "outputs": [],
   "source": [
    "zzz=None\n",
    "zzz  # no output as zzz is not associated with any value"
   ]
  },
  {
   "cell_type": "code",
   "execution_count": 4,
   "id": "b246d281-885a-4462-9796-7eb2a32ea605",
   "metadata": {},
   "outputs": [
    {
     "data": {
      "text/plain": [
       "(False, False, True)"
      ]
     },
     "execution_count": 4,
     "metadata": {},
     "output_type": "execute_result"
    }
   ],
   "source": [
    " None==0 , None==False , None==zzz"
   ]
  },
  {
   "cell_type": "markdown",
   "id": "2ed91ab0-bf49-4c47-a580-8a8a51aab5b2",
   "metadata": {},
   "source": [
    "### Conditional Execution :"
   ]
  },
  {
   "cell_type": "code",
   "execution_count": 5,
   "id": "c5dcddb3-e8e5-4cc8-8aa8-b1cb99bc64b4",
   "metadata": {},
   "outputs": [
    {
     "data": {
      "text/plain": [
       "'positive'"
      ]
     },
     "execution_count": 5,
     "metadata": {},
     "output_type": "execute_result"
    }
   ],
   "source": [
    "x=0\n",
    "if x>=0:\n",
    "    result='positive'\n",
    "elif x<0:\n",
    "    result='less than zero'\n",
    "else:\n",
    "    result='zero'\n",
    "\n",
    "result"
   ]
  },
  {
   "cell_type": "markdown",
   "id": "5366c421-6737-422e-a222-b1d286425536",
   "metadata": {},
   "source": [
    "#### Trial Based Execution (try-except) :\n",
    "1. Syntax Errors\n",
    "2. Runtime Erros"
   ]
  },
  {
   "cell_type": "code",
   "execution_count": 6,
   "id": "7e9e6f43-238d-44ac-925c-db44334c624f",
   "metadata": {},
   "outputs": [
    {
     "data": {
      "text/plain": [
       "'wrong_data'"
      ]
     },
     "execution_count": 6,
     "metadata": {},
     "output_type": "execute_result"
    }
   ],
   "source": [
    "x='hello'\n",
    "try:\n",
    "    if x%1==0:\n",
    "        result='integer'\n",
    "    else:\n",
    "        result='float'\n",
    "except:\n",
    "    result='wrong_data'\n",
    "\n",
    "result"
   ]
  },
  {
   "cell_type": "markdown",
   "id": "3ccb72d3-79cd-4f01-8af8-d7b3786972ad",
   "metadata": {},
   "source": [
    "# Containers :"
   ]
  },
  {
   "cell_type": "markdown",
   "id": "60506c0d-ec14-4cfa-9b3b-a97359210f51",
   "metadata": {},
   "source": [
    "## 1.List :\n",
    "1. Lists are hetergeneouts : diff. object of diff. types can be contaied within a single list.\n",
    "2. a list is mutable because its elements can be changed after the list is created. Mutability allows for in-place modification of the list without creating a new object."
   ]
  },
  {
   "cell_type": "code",
   "execution_count": 7,
   "id": "b572737f-d8f4-42c7-be08-651957209efa",
   "metadata": {},
   "outputs": [
    {
     "data": {
      "text/plain": [
       "[111, 'hello', -3, 76, [56, 75]]"
      ]
     },
     "execution_count": 7,
     "metadata": {},
     "output_type": "execute_result"
    }
   ],
   "source": [
    "l=[111, 'hello' , -3, 76, [56,75]]\n",
    "l"
   ]
  },
  {
   "cell_type": "markdown",
   "id": "16cd1664-6682-4d18-b93b-3ab428b369af",
   "metadata": {},
   "source": [
    "##### Operations :"
   ]
  },
  {
   "cell_type": "markdown",
   "id": "3a40ece9-7e60-4736-a882-4ff6125c3e9b",
   "metadata": {},
   "source": [
    "* <b>Indexing & Slicing </b>: Everyobject wihtin a list is indexed with respect to its position and can accessed individually or in slices."
   ]
  },
  {
   "cell_type": "code",
   "execution_count": 8,
   "id": "df8db541-4e09-4cc9-8866-5beb93fb14cb",
   "metadata": {},
   "outputs": [
    {
     "data": {
      "text/plain": [
       "(111, 'hello', ['hello', -3, 76])"
      ]
     },
     "execution_count": 8,
     "metadata": {},
     "output_type": "execute_result"
    }
   ],
   "source": [
    "l[0],l[1],l[1:4]"
   ]
  },
  {
   "cell_type": "code",
   "execution_count": 9,
   "id": "2b8f9536-3761-4c74-bc96-a2a9efa85d61",
   "metadata": {},
   "outputs": [
    {
     "data": {
      "text/plain": [
       "[56, 75]"
      ]
     },
     "execution_count": 9,
     "metadata": {},
     "output_type": "execute_result"
    }
   ],
   "source": [
    "l[:3], # upto given index \n",
    "l[3:], # from given index\n",
    "l[-1] # from last "
   ]
  },
  {
   "cell_type": "code",
   "execution_count": 10,
   "id": "fc42ab72-301b-4634-b72c-02853f6c9ee8",
   "metadata": {},
   "outputs": [
    {
     "name": "stdout",
     "output_type": "stream",
     "text": [
      "[11, 14, 16]\n",
      "[11, 12, 14, 15, 16, 17, 18]\n",
      "[18, 17, 16, 15, 14, 12, 11]\n"
     ]
    }
   ],
   "source": [
    "l=[11,12,14,15,16,17,18]\n",
    "print(l[0:6:2])\n",
    "print(l[0::1])\n",
    "print(l[-1::-1])"
   ]
  },
  {
   "cell_type": "markdown",
   "id": "f4ff82c8-d518-4191-a7e7-a3361bb31465",
   "metadata": {},
   "source": [
    "* Operators :\n",
    "1. Logical : and ,or , not\n",
    "2. Membership Operator : in ( check if some object is contained within a container or not).\n",
    "3. Identity Operator : is (compare obj and check if they are same or not )"
   ]
  },
  {
   "cell_type": "code",
   "execution_count": 11,
   "id": "91bfd37b-df56-42cc-a446-906c62d417f2",
   "metadata": {},
   "outputs": [
    {
     "data": {
      "text/plain": [
       "'x in l1 and l2'"
      ]
     },
     "execution_count": 11,
     "metadata": {},
     "output_type": "execute_result"
    }
   ],
   "source": [
    "## Membership Operator : (IN)\n",
    "l1=[11,22,99]\n",
    "l2=[22,44,66]\n",
    "x=22\n",
    "\n",
    "if x in l1:\n",
    "    result='x in l1'\n",
    "if x in l2:\n",
    "    result='x in l2'\n",
    "if x in l1 and x in l2:\n",
    "    result='x in l1 and l2'\n",
    "if not x in l1 and not x in l2:\n",
    "    result='x not in l1 or l2'\n",
    "result"
   ]
  },
  {
   "cell_type": "code",
   "execution_count": 12,
   "id": "9fb4a08f-3b29-49b9-b32b-c8cf5089d003",
   "metadata": {},
   "outputs": [
    {
     "data": {
      "text/plain": [
       "False"
      ]
     },
     "execution_count": 12,
     "metadata": {},
     "output_type": "execute_result"
    }
   ],
   "source": [
    "## Identity Operator : (Is)\n",
    "l1=[11,22,99]\n",
    "l2=[22,44,66]\n",
    "l1 is l2"
   ]
  },
  {
   "cell_type": "code",
   "execution_count": 13,
   "id": "55ae9e77-c738-4eaa-850b-1201b7e86a3d",
   "metadata": {},
   "outputs": [
    {
     "data": {
      "text/plain": [
       "False"
      ]
     },
     "execution_count": 13,
     "metadata": {},
     "output_type": "execute_result"
    }
   ],
   "source": [
    "l1=[]\n",
    "l2=[]\n",
    "l1 is l2"
   ]
  },
  {
   "cell_type": "markdown",
   "id": "1963f7d0-23ec-4179-b1a7-c050f2bf19af",
   "metadata": {},
   "source": [
    "* Mutability :\n",
    " List are mutable in the sense that values with the list can be modified/changed ."
   ]
  },
  {
   "cell_type": "code",
   "execution_count": 14,
   "id": "44e7cf4a-27c9-4431-962e-8983a81e4bde",
   "metadata": {},
   "outputs": [
    {
     "name": "stdout",
     "output_type": "stream",
     "text": [
      "[11, 33, 5]\n"
     ]
    }
   ],
   "source": [
    "l1=[11,33,5]\n",
    "print(l1)"
   ]
  },
  {
   "cell_type": "code",
   "execution_count": 15,
   "id": "4125f6ff-43c8-461f-a466-936638d88bfe",
   "metadata": {},
   "outputs": [
    {
     "data": {
      "text/plain": [
       "[11, 33, 22]"
      ]
     },
     "execution_count": 15,
     "metadata": {},
     "output_type": "execute_result"
    }
   ],
   "source": [
    "l1[-1]=l1[0]*2\n",
    "l1"
   ]
  },
  {
   "cell_type": "markdown",
   "id": "ab9dc2bc-2487-4e05-80e2-f970d1f63d9a",
   "metadata": {},
   "source": [
    "* Iteration :"
   ]
  },
  {
   "cell_type": "code",
   "execution_count": 16,
   "id": "17e06f13-9a46-4ef2-b14d-a9c0122469b0",
   "metadata": {},
   "outputs": [
    {
     "data": {
      "text/plain": [
       "([86, 92], [31, 21])"
      ]
     },
     "execution_count": 16,
     "metadata": {},
     "output_type": "execute_result"
    }
   ],
   "source": [
    "l=[86,31,92,21]\n",
    "list_even=[]\n",
    "list_odd=[]\n",
    "\n",
    "for i in l:\n",
    "    if i%2==0:\n",
    "        list_even+=[i] # it will store value ,\n",
    "        #list_even+=i    it will store sum \n",
    "    else:\n",
    "        list_odd+=[i]\n",
    "\n",
    "list_even , list_odd"
   ]
  },
  {
   "cell_type": "code",
   "execution_count": 17,
   "id": "3b694837-4d2c-453e-985d-b9a8c29e5019",
   "metadata": {},
   "outputs": [
    {
     "data": {
      "text/plain": [
       "([1, 66], [222.2], ['47', '5.5'])"
      ]
     },
     "execution_count": 17,
     "metadata": {},
     "output_type": "execute_result"
    }
   ],
   "source": [
    "l=[1,'47',222.2,'5.5',66]\n",
    "l_int=[]\n",
    "l_float=[]\n",
    "l_wrong_data=[]\n",
    "\n",
    "for i in l:\n",
    "    try:\n",
    "        if i%1==0:\n",
    "            l_int+=[i]\n",
    "        else:\n",
    "            l_float+=[i]\n",
    "    except:\n",
    "        l_wrong_data+=[i]\n",
    "\n",
    "l_int,l_float,l_wrong_data\n"
   ]
  },
  {
   "cell_type": "markdown",
   "id": "aee1766d-45ed-4628-9e90-9458c5f43cad",
   "metadata": {},
   "source": [
    "## 2. Tuples : ()\n",
    "1. Immutable : Sequence of object within tuple cannot be changed in any circumstance"
   ]
  },
  {
   "cell_type": "code",
   "execution_count": 18,
   "id": "260289ee-e415-4021-be20-70b8ce332d61",
   "metadata": {},
   "outputs": [
    {
     "data": {
      "text/plain": [
       "(66, 55, [1, 2])"
      ]
     },
     "execution_count": 18,
     "metadata": {},
     "output_type": "execute_result"
    }
   ],
   "source": [
    "t=(66,55,[1,2])\n",
    "t"
   ]
  },
  {
   "cell_type": "code",
   "execution_count": 19,
   "id": "1ec9b3a9-2b8c-4537-8dfc-fa0d485642c7",
   "metadata": {},
   "outputs": [
    {
     "data": {
      "text/plain": [
       "(66, [1, 2], (66, 55))"
      ]
     },
     "execution_count": 19,
     "metadata": {},
     "output_type": "execute_result"
    }
   ],
   "source": [
    "t[0], t[-1], t[:-1]"
   ]
  },
  {
   "cell_type": "code",
   "execution_count": 20,
   "id": "feaa1192-a328-46c1-8622-77ec7eeca82f",
   "metadata": {},
   "outputs": [],
   "source": [
    "# t[-1]=98  it will show error"
   ]
  },
  {
   "cell_type": "code",
   "execution_count": 21,
   "id": "3f9efe38-ad1f-41bb-b30f-cb16890d37d0",
   "metadata": {},
   "outputs": [
    {
     "data": {
      "text/plain": [
       "(12, 13, 14)"
      ]
     },
     "execution_count": 21,
     "metadata": {},
     "output_type": "execute_result"
    }
   ],
   "source": [
    "values=12,13,14\n",
    "values"
   ]
  },
  {
   "cell_type": "code",
   "execution_count": 22,
   "id": "7eeecfd0-bc68-4e96-80cd-ba9f1f219569",
   "metadata": {},
   "outputs": [
    {
     "data": {
      "text/plain": [
       "(12, 13, 14)"
      ]
     },
     "execution_count": 22,
     "metadata": {},
     "output_type": "execute_result"
    }
   ],
   "source": [
    "## Unpacking :\n",
    "a,b,c=values\n",
    "\n",
    "a,b,c"
   ]
  },
  {
   "cell_type": "markdown",
   "id": "799614c0-1f52-4793-9196-76701235b905",
   "metadata": {},
   "source": [
    "## 3.Dictionaries : {}\n",
    "1. Ordered set of key-value pairs.\n",
    "2. Mutable : new key-value pairs can be added to it or existing ones remove,and can be modified.\n"
   ]
  },
  {
   "cell_type": "code",
   "execution_count": 23,
   "id": "117a5920-e920-4710-b68d-6392019c2d01",
   "metadata": {},
   "outputs": [
    {
     "data": {
      "text/plain": [
       "{'India': 'Delhi', 'UK': 'London', 'USA': 'Washington'}"
      ]
     },
     "execution_count": 23,
     "metadata": {},
     "output_type": "execute_result"
    }
   ],
   "source": [
    "d={'India':'Delhi','UK':'London','USA':'Washington'}\n",
    "d"
   ]
  },
  {
   "cell_type": "code",
   "execution_count": 24,
   "id": "125f2bea-86a6-4002-8955-5847503ec1b6",
   "metadata": {},
   "outputs": [
    {
     "data": {
      "text/plain": [
       "('Delhi', 'Washington')"
      ]
     },
     "execution_count": 24,
     "metadata": {},
     "output_type": "execute_result"
    }
   ],
   "source": [
    "## Acessing the dictionary values :\n",
    "d['India'],d['USA']"
   ]
  },
  {
   "cell_type": "code",
   "execution_count": 25,
   "id": "c7b33325-bd2a-4b5e-b371-56297acdcec8",
   "metadata": {},
   "outputs": [
    {
     "data": {
      "text/plain": [
       "{'India': 'Delhi', 'UK': 'London', 'USA': 'Washington', 'China': 'Beijing'}"
      ]
     },
     "execution_count": 25,
     "metadata": {},
     "output_type": "execute_result"
    }
   ],
   "source": [
    "## Add value to dictionary\n",
    "d['China']='Beijing'\n",
    "d"
   ]
  },
  {
   "cell_type": "code",
   "execution_count": 26,
   "id": "5605c30d-f181-4f69-825f-e61c4d1bcf3d",
   "metadata": {},
   "outputs": [
    {
     "data": {
      "text/plain": [
       "['Delhi', 'London', 'Washington', 'Beijing']"
      ]
     },
     "execution_count": 26,
     "metadata": {},
     "output_type": "execute_result"
    }
   ],
   "source": [
    "# Dict to list\n",
    "l_capitals=[]\n",
    "for key in d:\n",
    "    l_capitals+=[d[key]]\n",
    "\n",
    "l_capitals"
   ]
  },
  {
   "cell_type": "code",
   "execution_count": 27,
   "id": "f21d44f2-ce77-431b-a638-f151f15ce507",
   "metadata": {},
   "outputs": [
    {
     "data": {
      "text/plain": [
       "{'even_sum': 178, 'odd_sum': 52}"
      ]
     },
     "execution_count": 27,
     "metadata": {},
     "output_type": "execute_result"
    }
   ],
   "source": [
    "l=[86,31,92,21]\n",
    "\n",
    "d={}\n",
    "d['even_sum']=0\n",
    "d['odd_sum']=0\n",
    "\n",
    "for i in l:\n",
    "    if i%2==0:\n",
    "        d['even_sum']+=i\n",
    "    else:\n",
    "        d['odd_sum']+=i\n",
    "\n",
    "d"
   ]
  },
  {
   "cell_type": "code",
   "execution_count": 28,
   "id": "be25b4b5-d175-486f-a303-d50823f71640",
   "metadata": {},
   "outputs": [
    {
     "data": {
      "text/plain": [
       "{'even': [86, 92], 'odd': [31, 21]}"
      ]
     },
     "execution_count": 28,
     "metadata": {},
     "output_type": "execute_result"
    }
   ],
   "source": [
    "d={}\n",
    "d['even']=[]\n",
    "d['odd']=[]\n",
    "\n",
    "for i in l:\n",
    "    if i%2==0:\n",
    "        d['even']+=[i]\n",
    "    else:\n",
    "        d['odd']+=[i]\n",
    "\n",
    "d"
   ]
  },
  {
   "cell_type": "code",
   "execution_count": 29,
   "id": "efe0dd13-f0ff-47ff-ae5c-edba40f97467",
   "metadata": {},
   "outputs": [
    {
     "data": {
      "text/plain": [
       "{1: 'hello', 2: 1000, 3: {'a': 10, 'b': 20}}"
      ]
     },
     "execution_count": 29,
     "metadata": {},
     "output_type": "execute_result"
    }
   ],
   "source": [
    "d={1:'hello', 2:1000, 3:{'a':10, 'b':20}}\n",
    "d"
   ]
  },
  {
   "cell_type": "markdown",
   "id": "089d6332-e59e-4954-bc23-7ccc0b95d5b8",
   "metadata": {},
   "source": [
    "## 4. Sets : {}\n",
    "1. Unordered Collection of unique objects.\n",
    "2. Mutable and heterogeneous.\n",
    "3. Cannot accessed through indexing and sets are not iterable."
   ]
  },
  {
   "cell_type": "code",
   "execution_count": 30,
   "id": "2aff6491-5b1c-4878-9014-7274bec189f9",
   "metadata": {},
   "outputs": [
    {
     "data": {
      "text/plain": [
       "{22, 39, 7, 'hello'}"
      ]
     },
     "execution_count": 30,
     "metadata": {},
     "output_type": "execute_result"
    }
   ],
   "source": [
    "s={22,'hello',22,7,'hello',39}\n",
    "s"
   ]
  },
  {
   "cell_type": "code",
   "execution_count": 31,
   "id": "c7552100-1599-4b42-aead-683b97d0497f",
   "metadata": {},
   "outputs": [
    {
     "data": {
      "text/plain": [
       "{1, 10, 2, 3, 4, 5, 6, 7, 8, 9, 'hello'}"
      ]
     },
     "execution_count": 31,
     "metadata": {},
     "output_type": "execute_result"
    }
   ],
   "source": [
    "s1={1,2,3,4,5,6}\n",
    "s2={6,7,8,9,10,'hello'}\n",
    "\n",
    "s1|s2 # union "
   ]
  },
  {
   "cell_type": "code",
   "execution_count": 32,
   "id": "8bb4d90a-9a70-471b-a4cb-e8c51d889aac",
   "metadata": {},
   "outputs": [
    {
     "data": {
      "text/plain": [
       "{6}"
      ]
     },
     "execution_count": 32,
     "metadata": {},
     "output_type": "execute_result"
    }
   ],
   "source": [
    "s1 & s2 # Intersection"
   ]
  },
  {
   "cell_type": "code",
   "execution_count": 33,
   "id": "e116ead2-305a-49d4-9821-a975072472a1",
   "metadata": {},
   "outputs": [
    {
     "data": {
      "text/plain": [
       "{1, 2, 3, 4, 5}"
      ]
     },
     "execution_count": 33,
     "metadata": {},
     "output_type": "execute_result"
    }
   ],
   "source": [
    "s1-s2 # Difference (item is s1 but not is s2)"
   ]
  },
  {
   "cell_type": "code",
   "execution_count": 34,
   "id": "658649ed-8a22-49fd-bf30-3d1de023a59b",
   "metadata": {},
   "outputs": [
    {
     "data": {
      "text/plain": [
       "{1, 10, 2, 3, 4, 5, 7, 8, 9, 'hello'}"
      ]
     },
     "execution_count": 34,
     "metadata": {},
     "output_type": "execute_result"
    }
   ],
   "source": [
    "s1^ s2 # Symmetric difference (item in s1 or s2 but not in both)"
   ]
  },
  {
   "cell_type": "markdown",
   "id": "77659cc1-b105-41bd-88dd-19b002380668",
   "metadata": {},
   "source": [
    "## Functions :"
   ]
  },
  {
   "cell_type": "code",
   "execution_count": 35,
   "id": "75050e11-6260-4785-8102-a927b74edcb1",
   "metadata": {},
   "outputs": [],
   "source": [
    "def some_fn_1(x):\n",
    "    return x"
   ]
  },
  {
   "cell_type": "code",
   "execution_count": 36,
   "id": "7e74de6d-3fc0-4c29-b79e-b6f735782dc7",
   "metadata": {},
   "outputs": [],
   "source": [
    "def some_fn_2(x):\n",
    "    return \"hello\",x+2"
   ]
  },
  {
   "cell_type": "code",
   "execution_count": 37,
   "id": "be590765-46ac-4c83-bc55-a478e6866cf8",
   "metadata": {},
   "outputs": [],
   "source": [
    "def some_fn_3(x):\n",
    "    y=x**2\n",
    "    return y"
   ]
  },
  {
   "cell_type": "code",
   "execution_count": 38,
   "id": "7e2f93dc-b8b1-4ed0-95ec-4a229509c183",
   "metadata": {},
   "outputs": [
    {
     "data": {
      "text/plain": [
       "(3, ('hello', 5), 9)"
      ]
     },
     "execution_count": 38,
     "metadata": {},
     "output_type": "execute_result"
    }
   ],
   "source": [
    "x=3\n",
    "some_fn_1(x),some_fn_2(x),some_fn_3(x)\n"
   ]
  },
  {
   "cell_type": "code",
   "execution_count": 39,
   "id": "cd63bcc0-d7c2-48a6-a04c-abd156a52ca1",
   "metadata": {},
   "outputs": [],
   "source": [
    "def fn_hello():\n",
    "    output=\"Welcome to python\"\n",
    "    return output"
   ]
  },
  {
   "cell_type": "code",
   "execution_count": 40,
   "id": "37cc4ea6-fe5b-4fa7-b7a4-d0f313417477",
   "metadata": {},
   "outputs": [
    {
     "data": {
      "text/plain": [
       "'Welcome to python'"
      ]
     },
     "execution_count": 40,
     "metadata": {},
     "output_type": "execute_result"
    }
   ],
   "source": [
    "fn_hello()"
   ]
  },
  {
   "cell_type": "markdown",
   "id": "49f15f24-7da2-452d-b3b3-9edad8350555",
   "metadata": {},
   "source": [
    "NOTE : Once a fn is defined , the fn name represent a \"function object\". A function object is an object that can be \"executed\" using curved brackets."
   ]
  },
  {
   "cell_type": "code",
   "execution_count": 41,
   "id": "54a6b943-a170-463c-a638-37bbac153908",
   "metadata": {},
   "outputs": [
    {
     "data": {
      "text/plain": [
       "<function __main__.fn_hello()>"
      ]
     },
     "execution_count": 41,
     "metadata": {},
     "output_type": "execute_result"
    }
   ],
   "source": [
    "x=fn_hello\n",
    "x"
   ]
  },
  {
   "cell_type": "markdown",
   "id": "c8fc1351-930e-45e5-a8dc-fb963cd2fedc",
   "metadata": {},
   "source": [
    " fn_hello represents a python object.<br>\n",
    "The function obj will only be called if the curved brackets are typed after if and the code cell run."
   ]
  },
  {
   "cell_type": "code",
   "execution_count": 42,
   "id": "b6e36b51-2845-4518-9b0d-00d6eb5ce717",
   "metadata": {},
   "outputs": [
    {
     "data": {
      "text/plain": [
       "'Welcome to python'"
      ]
     },
     "execution_count": 42,
     "metadata": {},
     "output_type": "execute_result"
    }
   ],
   "source": [
    "x()"
   ]
  },
  {
   "cell_type": "code",
   "execution_count": 45,
   "id": "e0a7306a-ccc8-448b-8e71-125ef6b9e1f8",
   "metadata": {},
   "outputs": [
    {
     "data": {
      "text/plain": [
       "(1, 0.1999999999999993)"
      ]
     },
     "execution_count": 45,
     "metadata": {},
     "output_type": "execute_result"
    }
   ],
   "source": [
    "abs(-1),abs(10-10.2) # return absolute value"
   ]
  },
  {
   "cell_type": "code",
   "execution_count": 46,
   "id": "f5ee6018-93d1-4acc-a448-538e042a195b",
   "metadata": {},
   "outputs": [
    {
     "data": {
      "text/plain": [
       "(2, 2.35)"
      ]
     },
     "execution_count": 46,
     "metadata": {},
     "output_type": "execute_result"
    }
   ],
   "source": [
    "round(2.348), round(2.348 , ndigits=2)"
   ]
  },
  {
   "cell_type": "code",
   "execution_count": 48,
   "id": "b069cdd5-b89e-4ff4-a4a9-1490f8822d8b",
   "metadata": {},
   "outputs": [
    {
     "data": {
      "text/plain": [
       "(4, 2.2, 21.87, 35.07)"
      ]
     },
     "execution_count": 48,
     "metadata": {},
     "output_type": "execute_result"
    }
   ],
   "source": [
    "l=[4,2.2,7,21.87]\n",
    "len(l),min(l),max(l),sum(l)"
   ]
  },
  {
   "cell_type": "code",
   "execution_count": 49,
   "id": "07a03ddc-3a67-49bd-9b07-9e84a7bf8b95",
   "metadata": {},
   "outputs": [
    {
     "data": {
      "text/plain": [
       "([2.2, 4, 7, 21.87], [21.87, 7, 4, 2.2])"
      ]
     },
     "execution_count": 49,
     "metadata": {},
     "output_type": "execute_result"
    }
   ],
   "source": [
    "sorted(l) , sorted(l,reverse=True)"
   ]
  },
  {
   "cell_type": "code",
   "execution_count": 50,
   "id": "4297404d-3ed4-4d1f-9514-9834177f32f1",
   "metadata": {},
   "outputs": [
    {
     "data": {
      "text/plain": [
       "(True, False)"
      ]
     },
     "execution_count": 50,
     "metadata": {},
     "output_type": "execute_result"
    }
   ],
   "source": [
    "# all : return true if all values in list/tuple are non-zeros\n",
    "l1=[3,2.2,7,21.87]\n",
    "l2=[3,2.2,0]\n",
    "all(l1),all(l2)"
   ]
  },
  {
   "cell_type": "code",
   "execution_count": 52,
   "id": "ca521df6-3232-4d60-99c8-fadc5d0de0ca",
   "metadata": {},
   "outputs": [
    {
     "data": {
      "text/plain": [
       "(True, True, False)"
      ]
     },
     "execution_count": 52,
     "metadata": {},
     "output_type": "execute_result"
    }
   ],
   "source": [
    "# any : return true if any value in list/tuple are non-zero\n",
    "l3=[0]\n",
    "any(l1),any(l2),any(l3)"
   ]
  },
  {
   "cell_type": "markdown",
   "id": "8425f9ba-c05b-4569-94d7-eddae89f059e",
   "metadata": {},
   "source": [
    "#### Unpacking containers using Star and Double Star Operators :"
   ]
  },
  {
   "cell_type": "code",
   "execution_count": 53,
   "id": "99670a53-0184-46bf-b6d0-525a78440383",
   "metadata": {},
   "outputs": [
    {
     "data": {
      "text/plain": [
       "[1, 2, 3, 11, 22, 33]"
      ]
     },
     "execution_count": 53,
     "metadata": {},
     "output_type": "execute_result"
    }
   ],
   "source": [
    "list_1,tup_1=[1,2,3],(11,22,33)\n",
    "l=[*list_1,*tup_1]\n",
    "l"
   ]
  },
  {
   "cell_type": "markdown",
   "id": "a6d5ba7a-26cf-462e-b662-85bf4dc3ca1b",
   "metadata": {},
   "source": [
    "## Double star operator  used to unpack Dictonaries."
   ]
  },
  {
   "cell_type": "code",
   "execution_count": 54,
   "id": "abdcd722-a7b4-4629-a819-f0e414e7993f",
   "metadata": {},
   "outputs": [
    {
     "data": {
      "text/plain": [
       "{'a': 1, 'b': 2, 'c': 11, 'd': 22}"
      ]
     },
     "execution_count": 54,
     "metadata": {},
     "output_type": "execute_result"
    }
   ],
   "source": [
    "dict_1=dict(a=1,b=2)\n",
    "dict_2=dict(c=11,d=22)\n",
    "\n",
    "d={**dict_1,**dict_2}\n",
    "d"
   ]
  },
  {
   "cell_type": "markdown",
   "id": "7c009b12-540a-406a-ac02-331f3229a1ad",
   "metadata": {},
   "source": [
    "### Enumerate :\n",
    "The enumerate iterator fn takes in an iterable obj (list/tuple/dict) and return tuples containing the value being currently yielded and its count or index value."
   ]
  },
  {
   "cell_type": "code",
   "execution_count": 55,
   "id": "10ce98b9-5d92-4b4d-8ab6-d6ee4b67de5d",
   "metadata": {},
   "outputs": [
    {
     "name": "stdout",
     "output_type": "stream",
     "text": [
      "0 11\n",
      "1 22\n",
      "2 33\n"
     ]
    }
   ],
   "source": [
    "l=[11,22,33]\n",
    "for idx,i in enumerate(l):\n",
    "    print(idx,i)"
   ]
  },
  {
   "cell_type": "markdown",
   "id": "33e8bbdf-84a4-4b39-9053-39c554d83c27",
   "metadata": {},
   "source": [
    "### Zip : \n",
    "Zip iterator allows us to iterate through multiple equi-sized containers simultaneously."
   ]
  },
  {
   "cell_type": "code",
   "execution_count": 56,
   "id": "33aa9cf1-f0c5-4ef7-bc82-1672c774ee16",
   "metadata": {},
   "outputs": [
    {
     "name": "stdout",
     "output_type": "stream",
     "text": [
      "1 11 a\n",
      "2 22 b\n",
      "3 33 c\n"
     ]
    }
   ],
   "source": [
    "l1,l2,l3=[1,2,3],[11,22,33],['a','b','c']\n",
    "\n",
    "for i,j,k in zip(l1,l2,l3):\n",
    "    print(i,j,k)\n",
    "                            "
   ]
  },
  {
   "cell_type": "markdown",
   "id": "1ed99e74-876e-4ef7-a813-a3c0bc2166fc",
   "metadata": {},
   "source": [
    "### Range \n",
    "(start,stop,step)"
   ]
  },
  {
   "cell_type": "code",
   "execution_count": 57,
   "id": "a365204e-8d9b-4ca5-8f18-a2413b92c4aa",
   "metadata": {},
   "outputs": [
    {
     "name": "stdout",
     "output_type": "stream",
     "text": [
      "0\n",
      "2\n",
      "4\n",
      "6\n",
      "8\n",
      "10\n"
     ]
    }
   ],
   "source": [
    "for i in range(0,12,2):\n",
    "    print(i)"
   ]
  },
  {
   "cell_type": "markdown",
   "id": "17ccf18d-35cf-4d54-bcb1-36eeea5f9813",
   "metadata": {},
   "source": [
    "### Comprehensions : \n",
    "A high level decalrative way of creating sequence . It enables one to perform an iteration and collect the required value from the iteration in a single step."
   ]
  },
  {
   "cell_type": "code",
   "execution_count": 59,
   "id": "5423737e-ad5e-4670-b92b-5fdff7f8dd4f",
   "metadata": {},
   "outputs": [
    {
     "data": {
      "text/plain": [
       "[0, 1, 2, 3, 4]"
      ]
     },
     "execution_count": 59,
     "metadata": {},
     "output_type": "execute_result"
    }
   ],
   "source": [
    "l=[]\n",
    "for i in range(5):\n",
    "    l.append(i)\n",
    "l"
   ]
  },
  {
   "cell_type": "code",
   "execution_count": 60,
   "id": "d56bd1f2-8de5-43e8-96e9-7c92b053f898",
   "metadata": {},
   "outputs": [
    {
     "data": {
      "text/plain": [
       "[0, 1, 2, 3, 4]"
      ]
     },
     "execution_count": 60,
     "metadata": {},
     "output_type": "execute_result"
    }
   ],
   "source": [
    "l=[i for i in range(5)]\n",
    "l"
   ]
  },
  {
   "cell_type": "code",
   "execution_count": 61,
   "id": "f89ce0f2-a6e6-41aa-aa2b-c13630ae0f23",
   "metadata": {},
   "outputs": [
    {
     "data": {
      "text/plain": [
       "[0, 2, 4, 6, 8]"
      ]
     },
     "execution_count": 61,
     "metadata": {},
     "output_type": "execute_result"
    }
   ],
   "source": [
    "l=[i for i in range(10) if i%2==0]\n",
    "l"
   ]
  },
  {
   "cell_type": "code",
   "execution_count": 62,
   "id": "0954cf88-737a-478d-ba79-c032f7753b95",
   "metadata": {},
   "outputs": [
    {
     "data": {
      "text/plain": [
       "[0, 'odd', 2, 'odd', 4, 'odd', 6, 'odd', 8, 'odd']"
      ]
     },
     "execution_count": 62,
     "metadata": {},
     "output_type": "execute_result"
    }
   ],
   "source": [
    "l=[i if i%2==0 else 'odd' for i in range(10)]\n",
    "l"
   ]
  },
  {
   "cell_type": "markdown",
   "id": "d7540cb4-1287-4d93-a47f-e750bbf60435",
   "metadata": {},
   "source": [
    "#### Dict comprehensions :"
   ]
  },
  {
   "cell_type": "code",
   "execution_count": 63,
   "id": "f0bd05b3-b92f-4293-8b17-86a2b66b7a18",
   "metadata": {},
   "outputs": [
    {
     "data": {
      "text/plain": [
       "{'x': [1, 2, 4], 'y': [11.1, 2.2, 3.3], 'z': [11, 22, 33]}"
      ]
     },
     "execution_count": 63,
     "metadata": {},
     "output_type": "execute_result"
    }
   ],
   "source": [
    "var=['x','y','z']\n",
    "x=[1,2,4]\n",
    "y=[11.1,2.2,3.3]\n",
    "z=[11,22,33]\n",
    "\n",
    "d={k:v for k, v in zip(var,[x,y,z])}\n",
    "d"
   ]
  }
 ],
 "metadata": {
  "kernelspec": {
   "display_name": "Python 3 (ipykernel)",
   "language": "python",
   "name": "python3"
  },
  "language_info": {
   "codemirror_mode": {
    "name": "ipython",
    "version": 3
   },
   "file_extension": ".py",
   "mimetype": "text/x-python",
   "name": "python",
   "nbconvert_exporter": "python",
   "pygments_lexer": "ipython3",
   "version": "3.12.7"
  }
 },
 "nbformat": 4,
 "nbformat_minor": 5
}
